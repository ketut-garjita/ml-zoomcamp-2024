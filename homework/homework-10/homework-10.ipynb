{
 "cells": [
  {
   "cell_type": "markdown",
   "id": "01682ce3-bdf8-4e05-85c1-214200277d34",
   "metadata": {},
   "source": [
    "# Homework\n",
    "\n",
    "In this homework, we'll deploy the Bank Marketing model from the homework 5. We already have a docker image for this model - we'll use it for deploying the model to Kubernetes.\n",
    "\n",
    "## Building the image"
   ]
  },
  {
   "cell_type": "code",
   "execution_count": 1,
   "id": "54724d45-28dd-4f39-bb40-0a3735e4bdf5",
   "metadata": {},
   "outputs": [],
   "source": [
    "# Clone the course repo if you haven't:\n",
    "\n",
    "# !git clone https://github.com/DataTalksClub/machine-learning-zoomcamp.git"
   ]
  },
  {
   "cell_type": "raw",
   "id": "76e5786f-2a7e-4eee-98ab-f69047ea2f5e",
   "metadata": {},
   "source": [
    "# Go to the course-zoomcamp/cohorts/2024/05-deployment/homework folder and execute the following:\n",
    "\n",
    "!cd machine-learning-zoomcamp/cohorts/2024/05-deployment/homework"
   ]
  },
  {
   "cell_type": "code",
   "execution_count": 2,
   "id": "61000d20-153e-459b-8d2d-e32bf2fb13be",
   "metadata": {},
   "outputs": [],
   "source": [
    "# !docker build -t zoomcamp-model:3.11.5-hw10 machine-learning-zoomcamp/cohorts/2024/05-deployment/homework\n",
    "\n",
    "# Note: If you have troubles building the image, you can use the image we built and published to docker hub: docker pull svizor/zoomcamp-model:3.11.5-hw10"
   ]
  },
  {
   "cell_type": "markdown",
   "id": "6f3573dc-4248-41ee-a8b9-fdd8ff7c65fe",
   "metadata": {},
   "source": [
    "## Question 1\n",
    "\n",
    "Run it to test that it's working locally:\n",
    "```\n",
    "docker run -it --rm -p 9696:9696 zoomcamp-model:3.11.5-hw10\n",
    "```\n",
    "\n",
    "And in another terminal, execute q6_test.py file:\n",
    "```\n",
    "python q6_test.py\n",
    "```\n",
    "\n",
    "You should see this:\n",
    "```\n",
    "{'has_subscribed': True, 'has_subscribed_probability': <value>}\n",
    "```\n",
    "\n",
    "Here <value> is the probability of getting a subscription. You need to choose the right one.\n",
    "\n",
    "- 0.287\n",
    "- 0.530\n",
    "- 0.757\n",
    "- 0.960\n",
    "\n",
    "Now you can stop the container running in Docker."
   ]
  },
  {
   "cell_type": "raw",
   "id": "625fee01-f243-42b8-a4b5-841ecf031262",
   "metadata": {},
   "source": [
    "# Terminal\n",
    "docker run -it --rm -p 9696:9696 zoomcamp-model:3.11.5-hw10\n",
    "\n",
    "INFO:waitress:Serving on http://0.0.0.0:9696"
   ]
  },
  {
   "cell_type": "raw",
   "id": "a31ef040-367b-4882-afbe-07de58c4f6f8",
   "metadata": {},
   "source": [
    "# Terminal\n",
    "python q6_test.py\n",
    "\n",
    "{'has_subscribed': True, 'has_subscribed_probability': 0.756743795240796}"
   ]
  },
  {
   "cell_type": "markdown",
   "id": "f12fe8e1-2a73-4e70-ba8a-86f5fdeb664b",
   "metadata": {},
   "source": [
    "### Answer 1: 0.757"
   ]
  },
  {
   "cell_type": "markdown",
   "id": "e8dbe6d7-0d63-4d5e-bea9-732da7fbba43",
   "metadata": {},
   "source": [
    "## Installing kubectl and kind\n",
    "\n",
    "You need to install:\n",
    "\n",
    "- kubectl - https://kubernetes.io/docs/tasks/tools/ (you might already have it - check before installing)\n",
    "- kind - https://kind.sigs.k8s.io/docs/user/quick-start/"
   ]
  },
  {
   "cell_type": "markdown",
   "id": "02545135-3ba0-4f03-982d-dba9335efaae",
   "metadata": {},
   "source": [
    "## Question 2\n",
    "\n",
    "What's the version of kind that you have?\n",
    "\n",
    "Use :\n",
    "\n",
    "```\n",
    "kind --version \n",
    "```\n",
    "\n",
    "to find out.\n",
    "\n",
    "Creating a cluster.\n",
    "\n",
    "Now let's create a cluster with kind:\n",
    "```\n",
    "kind create cluster\n",
    "```\n",
    "\n",
    "And check with kubectl that it was successfully created:\n",
    "```\n",
    "kubectl cluster-info\n",
    "```\n"
   ]
  },
  {
   "cell_type": "code",
   "execution_count": 13,
   "id": "e37dba26-9bec-4fe4-9b14-6d3dc10e172f",
   "metadata": {},
   "outputs": [
    {
     "name": "stdout",
     "output_type": "stream",
     "text": [
      "kind version 0.17.0\n"
     ]
    }
   ],
   "source": [
    "!kind --version "
   ]
  },
  {
   "cell_type": "markdown",
   "id": "5f9e97ab-a9f0-4c8c-a844-098687ae7c59",
   "metadata": {},
   "source": [
    "## Question 3\n",
    "\n",
    "What's the smallest deployable computing unit that we can create and manage in Kubernetes (kind in our case)?\n",
    "\n",
    "- Node\n",
    "- Pod\n",
    "- Deployment\n",
    "- Service"
   ]
  },
  {
   "cell_type": "markdown",
   "id": "6f2f6c03-cd7e-41e7-8bae-4a5d09f54227",
   "metadata": {},
   "source": [
    "**Pod**: A Pod is the smallest and simplest unit in the Kubernetes ecosystem. It represents one or more containers that share storage, network, and instructions on how to run the containers. You can directly create and manage Pods.\n",
    "\n",
    "**Node**: A Node is a physical or virtual machine where Pods run. While Nodes are part of the Kubernetes infrastructure, they are not a \"deployable unit\" you manage for running workloads.\n",
    "\n",
    "**Deployment**: A Deployment is a higher-level abstraction that manages a set of Pods. It ensures the desired number of Pod replicas are running and helps with updates and rollbacks.\n",
    "\n",
    "**Service**: A Service is an abstraction that exposes a set of Pods to enable communication (e.g., load balancing and discovery). It's not a computing unit itself but a way to expose Pods."
   ]
  },
  {
   "cell_type": "markdown",
   "id": "4b2fdc97-db68-42a9-a476-ebd69e42176a",
   "metadata": {},
   "source": [
    "### Answer 3: Pod"
   ]
  },
  {
   "cell_type": "markdown",
   "id": "715893fd-7604-4cc5-a7f4-1fbcd8de88f3",
   "metadata": {},
   "source": [
    "## Question 4\n",
    "\n",
    "Now let's test if everything works. Use kubectl to get the list of running services.\n",
    "\n",
    "What's the Type of the service that is already running there?\n",
    "\n",
    "- NodePort\n",
    "- ClusterIP\n",
    "- ExternalName\n",
    "- LoadBalancer"
   ]
  },
  {
   "cell_type": "code",
   "execution_count": 3,
   "id": "4d032d8a-446f-459d-804b-848f03ecab22",
   "metadata": {},
   "outputs": [
    {
     "name": "stdout",
     "output_type": "stream",
     "text": [
      "NAME                   TYPE           CLUSTER-IP      EXTERNAL-IP   PORT(S)        AGE\n",
      "engagement-service     LoadBalancer   10.96.36.40     <pending>     80:30087/TCP   13h\n",
      "kubernetes             ClusterIP      10.96.0.1       <none>        443/TCP        13h\n",
      "subscription-service   LoadBalancer   10.96.178.136   <pending>     80:30555/TCP   69m\n"
     ]
    }
   ],
   "source": [
    "!kubectl get services"
   ]
  },
  {
   "cell_type": "markdown",
   "id": "e6582642-78fd-4e92-a65d-c8cac2eba259",
   "metadata": {},
   "source": [
    "### Answer 4: ClusterIP"
   ]
  },
  {
   "cell_type": "markdown",
   "id": "1bca4485-438e-4340-afe4-45cd5ee47b90",
   "metadata": {},
   "source": [
    "## Question 5\n",
    "\n",
    "To be able to use the docker image we previously created (zoomcamp-model:3.11.5-hw10), we need to register it with kind.\n",
    "\n",
    "What's the command we need to run for that?\n",
    "\n",
    "- kind create cluster\n",
    "- kind build node-image\n",
    "- kind load docker-image\n",
    "- kubectl apply"
   ]
  },
  {
   "cell_type": "raw",
   "id": "16d8beb3-1a28-4de2-8e57-7b56ca2f373d",
   "metadata": {},
   "source": [
    "# Terminal\n",
    "\n",
    "kind load docker-image zoomcamp-model:3.11.5-hw10\n"
   ]
  },
  {
   "cell_type": "markdown",
   "id": "7b4428cc-ec3f-4991-be7b-74a9a955a3fb",
   "metadata": {},
   "source": [
    "### Answer 5: kind load docker-image"
   ]
  },
  {
   "cell_type": "markdown",
   "id": "c1e29eba-e68f-4e5a-bb20-b3491a1d948b",
   "metadata": {},
   "source": [
    "## Question 6\n",
    "\n",
    "Now let's create a deployment config (e.g. deployment.yaml):\n",
    "\n",
    "```\n",
    "apiVersion: apps/v1\n",
    "kind: Deployment\n",
    "metadata:\n",
    "  name: subscription\n",
    "spec:\n",
    "  selector:\n",
    "    matchLabels:\n",
    "      app: subscription\n",
    "  replicas: 1\n",
    "  template:\n",
    "    metadata:\n",
    "      labels:\n",
    "        app: subscription\n",
    "    spec:\n",
    "      containers:\n",
    "      - name: subscription\n",
    "        image: zoomcamp-model:3.11.5-hw10\n",
    "        resources:\n",
    "          requests:\n",
    "            memory: \"64Mi\"\n",
    "            cpu: \"100m\"            \n",
    "          limits:\n",
    "            memory: \"1024Mi\"\n",
    "            cpu: \"400m\"\n",
    "        ports:\n",
    "        - containerPort: 9696\n",
    "```\n",
    "\n",
    "What is the value for <Port>? ==> 9696\n",
    "\n",
    "Apply this deployment using the appropriate command and get a list of running Pods. You can see one running Pod.\n"
   ]
  },
  {
   "cell_type": "code",
   "execution_count": 4,
   "id": "b3cdc4ac-ad7e-4c73-b67b-6b5c0aaec9bd",
   "metadata": {},
   "outputs": [
    {
     "name": "stdout",
     "output_type": "stream",
     "text": [
      "deployment.apps/subscription configured\n"
     ]
    }
   ],
   "source": [
    "!kubectl apply -f deployment.yaml"
   ]
  },
  {
   "cell_type": "markdown",
   "id": "3dcd970e-0783-45df-ab23-05571d53634f",
   "metadata": {},
   "source": [
    "## Question 7\n",
    "\n",
    "Let's create a service for this deployment (service.yaml):\n",
    "\n",
    "```\n",
    "apiVersion: v1\n",
    "kind: Service\n",
    "metadata:\n",
    "  name: subscription-service\n",
    "spec:\n",
    "  type: LoadBalancer\n",
    "  selector:\n",
    "    app: subscription\n",
    "  ports:\n",
    "    - port: 80\n",
    "      targetPort: 9696\n",
    "\n",
    "```\n",
    "\n",
    "\n"
   ]
  },
  {
   "cell_type": "code",
   "execution_count": 5,
   "id": "2ade6df1-042c-46c9-865a-09a232821508",
   "metadata": {},
   "outputs": [
    {
     "name": "stdout",
     "output_type": "stream",
     "text": [
      "service/subscription-service unchanged\n"
     ]
    }
   ],
   "source": [
    "!kubectl apply -f service.yaml"
   ]
  },
  {
   "cell_type": "markdown",
   "id": "56cf5956-b3a9-45dd-b2c5-489e093d76af",
   "metadata": {},
   "source": [
    "## Testing the service\n",
    "\n",
    "We can test our service locally by forwarding the port 9696 on our computer to the port 80 on the service:\n",
    "\n",
    "```\n",
    "kubectl port-forward service/<Service name> 9696:80\n",
    "```\n",
    "\n",
    "Run q6_test.py (from the homework 5) once again to verify that everything is working. You should get the same result as in Question 1."
   ]
  },
  {
   "cell_type": "code",
   "execution_count": 17,
   "id": "800ccece-aeea-4fcd-af9a-aeca0663b4a4",
   "metadata": {},
   "outputs": [
    {
     "name": "stdout",
     "output_type": "stream",
     "text": [
      "pod/subscription-65669bc8c7-vn5x4       1/1     Running            0          86m\n"
     ]
    }
   ],
   "source": [
    "!kubectl get all | grep pod/subscription"
   ]
  },
  {
   "cell_type": "raw",
   "id": "3a0a5afd-9379-4243-98d4-8cd0b7b082bc",
   "metadata": {},
   "source": [
    "# Terminal\n",
    "kubectl port-forward service/subscription-service 9696:80\n",
    "\n",
    "Forwarding from 127.0.0.1:9696 -> 9696\n",
    "Forwarding from [::1]:9696 -> 9696\n",
    "Handling connection for 9696\n"
   ]
  },
  {
   "cell_type": "code",
   "execution_count": 9,
   "id": "de416eb3-93f7-4770-83f9-9902e6923faf",
   "metadata": {},
   "outputs": [
    {
     "name": "stdout",
     "output_type": "stream",
     "text": [
      "{'has_subscribed': True, 'has_subscribed_probability': 0.756743795240796}\n"
     ]
    }
   ],
   "source": [
    "!python machine-learning-zoomcamp/cohorts/2024/05-deployment/homework/q6_test.py "
   ]
  },
  {
   "cell_type": "markdown",
   "id": "83bca9da-3eeb-40b4-9bbd-7ee9c006eafc",
   "metadata": {},
   "source": [
    "## Autoscaling\n",
    "\n",
    "Now we're going to use a HorizontalPodAutoscaler (HPA for short) that automatically updates a workload resource (such as our deployment), with the aim of automatically scaling the workload to match demand.\n",
    "\n",
    "Use the following command to create the HPA:\n",
    "\n",
    "```\n",
    "kubectl autoscale deployment subscription --name subscription-hpa --cpu-percent=20 --min=1 --max=3\n",
    "```\n",
    "\n",
    "You can check the current status of the new HPA by running:\n",
    "\n",
    "```\n",
    "kubectl get hpa\n",
    "```\n",
    "\n",
    "The output should be similar to the next:\n",
    "```\n",
    "NAME               REFERENCE                 TARGETS   MINPODS   MAXPODS   REPLICAS   AGE\n",
    "subscription-hpa   Deployment/subscription   1%/20%    1         3         1          27s\n",
    "```\n",
    "\n",
    "TARGET column shows the average CPU consumption across all the Pods controlled by the corresponding deployment. Current CPU consumption is about 0% as there are no clients sending requests to the server.\n",
    "\n",
    "Note: In case the HPA instance doesn't run properly, try to install the latest Metrics Server release from the components.yaml manifest:\n",
    "\n",
    "```\n",
    "kubectl apply -f https://github.com/kubernetes-sigs/metrics-server/releases/latest/download/components.yaml\n",
    "```\n"
   ]
  },
  {
   "cell_type": "code",
   "execution_count": 10,
   "id": "ec46e13b-0ea8-4c1f-bca2-dfbf0c9da1df",
   "metadata": {},
   "outputs": [
    {
     "name": "stdout",
     "output_type": "stream",
     "text": [
      "Error from server (AlreadyExists): horizontalpodautoscalers.autoscaling \"subscription-hpa\" already exists\n"
     ]
    }
   ],
   "source": [
    "!kubectl autoscale deployment subscription --name subscription-hpa --cpu-percent=20 --min=1 --max=3"
   ]
  },
  {
   "cell_type": "code",
   "execution_count": 11,
   "id": "9a83dc3c-173a-4911-bb5c-7a645fb973df",
   "metadata": {},
   "outputs": [
    {
     "name": "stdout",
     "output_type": "stream",
     "text": [
      "NAME               REFERENCE                 TARGETS   MINPODS   MAXPODS   REPLICAS   AGE\n",
      "subscription-hpa   Deployment/subscription   1%/20%    1         3         1          56m\n"
     ]
    }
   ],
   "source": [
    "!kubectl get hpa"
   ]
  },
  {
   "cell_type": "raw",
   "id": "ae2161dc-720a-447a-88dd-41f4ec533378",
   "metadata": {},
   "source": [
    "# !kubectl apply -f https://github.com/kubernetes-sigs/metrics-server/releases/latest/download/components.yaml\n"
   ]
  },
  {
   "cell_type": "markdown",
   "id": "553495ea-000b-40eb-92a0-f7ae5d9861aa",
   "metadata": {},
   "source": [
    "## Increase the load\n",
    "\n",
    "Let's see how the autoscaler reacts to increasing the load. To do this, we can slightly modify the existing q6_test.py script by putting the operator that sends the request to the subscription service into a loop.\n",
    "\n",
    "```\n",
    "while True:\n",
    "    sleep(0.1)\n",
    "    response = requests.post(url, json=client).json()\n",
    "    print(response)\n",
    "```\n",
    "\n",
    "Now you can run this script."
   ]
  },
  {
   "cell_type": "raw",
   "id": "d10c857b-dc06-4cfd-86ab-6d6e6c72428c",
   "metadata": {},
   "source": [
    "# q6_test_update.py (updated)\n",
    "\n",
    "import requests\n",
    "\n",
    "from time import sleep  # Import sleep function from the time module\n",
    "\n",
    "url = \"http://localhost:9696/predict\"\n",
    "\n",
    "client = {\"job\": \"management\", \"duration\": 400, \"poutcome\": \"success\"}\n",
    "response = requests.post(url, json=client).json()\n",
    "\n",
    "while True:\n",
    "    sleep(0.1)  # Sleep for 0.1 seconds before sending the next request\n",
    "    response = requests.post(url, json=client).json()\n",
    "    print(response)\n",
    "\n"
   ]
  },
  {
   "cell_type": "code",
   "execution_count": 12,
   "id": "e67e7d22-7aa7-48c9-8d98-c94ff30e1bcc",
   "metadata": {},
   "outputs": [
    {
     "name": "stdout",
     "output_type": "stream",
     "text": [
      "{'has_subscribed': True, 'has_subscribed_probability': 0.756743795240796}\n",
      "{'has_subscribed': True, 'has_subscribed_probability': 0.756743795240796}\n",
      "{'has_subscribed': True, 'has_subscribed_probability': 0.756743795240796}\n",
      "{'has_subscribed': True, 'has_subscribed_probability': 0.756743795240796}\n",
      "{'has_subscribed': True, 'has_subscribed_probability': 0.756743795240796}\n",
      "{'has_subscribed': True, 'has_subscribed_probability': 0.756743795240796}\n",
      "{'has_subscribed': True, 'has_subscribed_probability': 0.756743795240796}\n",
      "{'has_subscribed': True, 'has_subscribed_probability': 0.756743795240796}\n",
      "{'has_subscribed': True, 'has_subscribed_probability': 0.756743795240796}\n",
      "{'has_subscribed': True, 'has_subscribed_probability': 0.756743795240796}\n",
      "{'has_subscribed': True, 'has_subscribed_probability': 0.756743795240796}\n",
      "{'has_subscribed': True, 'has_subscribed_probability': 0.756743795240796}\n",
      "{'has_subscribed': True, 'has_subscribed_probability': 0.756743795240796}\n",
      "{'has_subscribed': True, 'has_subscribed_probability': 0.756743795240796}\n",
      "{'has_subscribed': True, 'has_subscribed_probability': 0.756743795240796}\n",
      "{'has_subscribed': True, 'has_subscribed_probability': 0.756743795240796}\n",
      "{'has_subscribed': True, 'has_subscribed_probability': 0.756743795240796}\n",
      "{'has_subscribed': True, 'has_subscribed_probability': 0.756743795240796}\n",
      "{'has_subscribed': True, 'has_subscribed_probability': 0.756743795240796}\n",
      "{'has_subscribed': True, 'has_subscribed_probability': 0.756743795240796}\n",
      "{'has_subscribed': True, 'has_subscribed_probability': 0.756743795240796}\n",
      "^C\n",
      "Traceback (most recent call last):\n",
      "  File \"/home/hduser/ml-zoomcamp/homework/10/machine-learning-zoomcamp/cohorts/2024/05-deployment/homework/q6_test_update.py\", line 10, in <module>\n",
      "    sleep(0.1)  # Sleep for 0.1 seconds before sending the next request\n",
      "    ^^^^^^^^^^\n",
      "KeyboardInterrupt\n"
     ]
    }
   ],
   "source": [
    "!python machine-learning-zoomcamp/cohorts/2024/05-deployment/homework/q6_test_update.py"
   ]
  },
  {
   "cell_type": "markdown",
   "id": "84098d05-f455-4fb3-ae1b-a66e55386e85",
   "metadata": {},
   "source": [
    "## Question 8 (optional)\n",
    "\n",
    "Run \n",
    "\n",
    "```\n",
    "kubectl get hpa subscription-hpa --watch\n",
    "```\n",
    "\n",
    "command to monitor how the autoscaler performs. Within a minute or so, you should see the higher CPU load; and then - more replicas. \n",
    "\n",
    "What was the maximum amount of the replicas during this test?\n",
    "\n",
    "- 1\n",
    "- 2\n",
    "- 3\n",
    "- 4\n",
    "\n",
    "Note: It may take a few minutes to stabilize the number of replicas. Since the amount of load is not controlled in any way it may happen that the final number of replicas will differ from initial."
   ]
  },
  {
   "cell_type": "raw",
   "id": "5cc3d35a-8966-43fe-bd97-fce850e66b3a",
   "metadata": {},
   "source": [
    "# Terminal\n",
    "kubectl get hpa subscription-hpa --\n",
    "\n",
    "NAME               REFERENCE                 TARGETS   MINPODS   MAXPODS   REPLICAS   AGE\n",
    "subscription-hpa   Deployment/subscription   1%/20%    1         3         1          30m\n",
    "subscription-hpa   Deployment/subscription   8%/20%    1         3         1          52m\n",
    "\n",
    "subscription-hpa   Deployment/subscription   1%/20%    1         3         1          52m\n",
    "subscription-hpa   Deployment/subscription   2%/20%    1         3         1          57m"
   ]
  },
  {
   "cell_type": "markdown",
   "id": "07a8afe2-f54a-4d82-9159-3ee6e62b2c2e",
   "metadata": {},
   "source": [
    "### Answer 8: 1"
   ]
  },
  {
   "cell_type": "code",
   "execution_count": null,
   "id": "a0360eab-7dcc-4df9-a461-fe40eeb3f111",
   "metadata": {},
   "outputs": [],
   "source": []
  }
 ],
 "metadata": {
  "kernelspec": {
   "display_name": "Python 3 (ipykernel)",
   "language": "python",
   "name": "python3"
  },
  "language_info": {
   "codemirror_mode": {
    "name": "ipython",
    "version": 3
   },
   "file_extension": ".py",
   "mimetype": "text/x-python",
   "name": "python",
   "nbconvert_exporter": "python",
   "pygments_lexer": "ipython3",
   "version": "3.11.9"
  }
 },
 "nbformat": 4,
 "nbformat_minor": 5
}
