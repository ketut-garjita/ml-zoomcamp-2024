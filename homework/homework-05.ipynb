{
 "cells": [
  {
   "cell_type": "raw",
   "id": "db68f79b-4ca9-488e-913e-d6a61aa0733d",
   "metadata": {},
   "source": [
    "!wget https://archive.ics.uci.edu/static/public/222/bank+marketing.zip\n",
    "!unzip bank+marketing.zip \n",
    "!!unzip bank.zip"
   ]
  },
  {
   "cell_type": "raw",
   "id": "209372b2-d0fe-40f5-b96d-0d039e507678",
   "metadata": {},
   "source": [
    "!wget https://github.com/alexeygrigorev/datasets/raw/refs/heads/master/bank-full.csv"
   ]
  },
  {
   "cell_type": "raw",
   "id": "105a9f1a-ad6e-4c1d-8004-ce1c8baccf21",
   "metadata": {},
   "source": [
    "!pip install pipenv"
   ]
  },
  {
   "cell_type": "code",
   "execution_count": 1,
   "id": "ad06be39-3098-4ec5-8619-fe82878bf232",
   "metadata": {},
   "outputs": [
    {
     "name": "stdout",
     "output_type": "stream",
     "text": [
      "Python 3.11.9\n"
     ]
    }
   ],
   "source": [
    "!python --version"
   ]
  },
  {
   "cell_type": "code",
   "execution_count": 2,
   "id": "9fb08787-3507-4c0e-87e8-35cae2c4dd94",
   "metadata": {},
   "outputs": [
    {
     "data": {
      "text/html": [
       "<pre style=\"white-space:pre;overflow-x:auto;line-height:normal;font-family:Menlo,'DejaVu Sans Mono',consolas,'Courier New',monospace\"></pre>\n"
      ],
      "text/plain": []
     },
     "metadata": {},
     "output_type": "display_data"
    },
    {
     "data": {
      "text/plain": [
       "'2024.2.0'"
      ]
     },
     "execution_count": 2,
     "metadata": {},
     "output_type": "execute_result"
    }
   ],
   "source": [
    "import pipenv\n",
    "pipenv.__version__"
   ]
  },
  {
   "cell_type": "markdown",
   "id": "6b551cd4-21ed-44ae-b186-951c1cf8d8a7",
   "metadata": {},
   "source": [
    "## Question 1\n",
    "- Install Pipenv\n",
    "- What's the version of pipenv you installed?\n",
    "- Use --version to find out"
   ]
  },
  {
   "cell_type": "markdown",
   "id": "c473d527-5d77-4af8-8612-bc7aa63ad821",
   "metadata": {},
   "source": [
    "### Answer 1: '2024.2.0'"
   ]
  },
  {
   "cell_type": "markdown",
   "id": "33e867ac-ed81-4240-b275-efcb4963a5ca",
   "metadata": {},
   "source": [
    "## Question 2\n",
    "- Use Pipenv to install Scikit-Learn version 1.5.2\n",
    "- What's the first hash for scikit-learn you get in Pipfile.lock?\n",
    "\n",
    "*Note: you should create an empty folder for homework and do it there.*"
   ]
  },
  {
   "cell_type": "raw",
   "id": "113c3234-0b59-41c7-8dd4-a6efc77fbd0d",
   "metadata": {},
   "source": [
    "mkdir models\n",
    "cd models\n",
    "pipenv install\n",
    "pipenv install scikit-learn==1.5.2\n",
    "vi Pipfile.lock"
   ]
  },
  {
   "cell_type": "markdown",
   "id": "0b0d42e7-41ea-4fd7-a0b3-9226d5850351",
   "metadata": {},
   "source": [
    "        \"scikit-learn\": {\n",
    "            \"hashes\": [\n",
    "                \"sha256:03b6158efa3faaf1feea3faa884c840ebd61b6484167c711548fce208ea09445\", "
   ]
  },
  {
   "cell_type": "markdown",
   "id": "d8c63c1f-9a86-43c1-a090-09511af06bc2",
   "metadata": {},
   "source": [
    "### Answer 2: \n",
    "\n",
    "\"sha256:03b6158efa3faaf1feea3faa884c840ebd61b6484167c711548fce208ea09445\""
   ]
  },
  {
   "cell_type": "markdown",
   "id": "2982f567-3cac-4cdb-92bc-e6014799197b",
   "metadata": {},
   "source": [
    "### Models\n",
    "\n",
    "We've prepared a dictionary vectorizer and a model.\n",
    "\n",
    "They were trained (roughly) using this code:\n",
    "\n",
    "```\n",
    "features = ['job', 'duration', 'poutcome']\n",
    "dicts = df[features].to_dict(orient='records')\n",
    "\n",
    "dv = DictVectorizer(sparse=False)\n",
    "X = dv.fit_transform(dicts)\n",
    "\n",
    "model = LogisticRegression().fit(X, y)\n",
    "```\n",
    "\n",
    "_Note: You don't need to train the model. This code is just for your reference._\n",
    "\n",
    "\n",
    "And then saved with Pickle. Download them:\n",
    "\n",
    "- [DictVectorizer](https://github.com/DataTalksClub/machine-learning-zoomcamp/blob/21e9253adf29b3d7dc08b3452e9ecdd188ce2a37/cohorts/2024/05-deployment/homework/dv.bin)\n",
    "- [LogisticRegression](https://github.com/DataTalksClub/machine-learning-zoomcamp/blob/21e9253adf29b3d7dc08b3452e9ecdd188ce2a37/cohorts/2024/05-deployment/homework/model1.bin)\n",
    "\n",
    "With wget:\n",
    "\n",
    "```\n",
    "PREFIX=https://raw.githubusercontent.com/DataTalksClub/machine-learning-zoomcamp/master/cohorts/2024/05-deployment/homework\n",
    "wget $PREFIX/model1.bin\n",
    "wget $PREFIX/dv.bin\n",
    "```"
   ]
  },
  {
   "cell_type": "raw",
   "id": "668edcd9-7b9f-47c9-8a25-a582fdc44822",
   "metadata": {},
   "source": [
    "shell --> better run on host\n",
    "\n",
    "pipenv shell\n",
    "\n",
    "PREFIX=\"https://raw.githubusercontent.com/DataTalksClub/machine-learning-zoomcamp/master/cohorts/2024/05-deployment/homework\"\n",
    "wget $PREFIX/model1.bin\n",
    "wget $PREFIX/dv.bin"
   ]
  },
  {
   "cell_type": "markdown",
   "id": "0445833d-8c17-49d9-8345-235ac06dee31",
   "metadata": {},
   "source": [
    "## Question 3\n",
    "\n",
    "Let's use these models!\n",
    "- Write a script for loading these models with pickle\n",
    "- Score this client:\n",
    "  \n",
    "    ```\n",
    "    {\"job\": \"management\", \"duration\": 400, \"poutcome\": \"success\"}\n",
    "    ```\n",
    "\n",
    "What's the probability that this client will get a subscription?\n",
    "- 0.359\n",
    "- 0.559\n",
    "- 0.759\n",
    "- 0.959\n",
    "\n",
    "If you're getting errors when unpickling the files, check their checksum:\n",
    "\n",
    "```\n",
    "$ md5sum model1.bin dv.bin\n",
    "3d8bb28974e55edefa000fe38fd3ed12  model1.bin\n",
    "7d37616e00aa80f2152b8b0511fc2dff  dv.bin\n",
    "```\n"
   ]
  },
  {
   "cell_type": "code",
   "execution_count": 3,
   "id": "eb525b8d-2a74-44f0-a07d-68d449decad6",
   "metadata": {},
   "outputs": [
    {
     "name": "stdout",
     "output_type": "stream",
     "text": [
      "The probability that this client will get a subscription is: 0.759\n"
     ]
    }
   ],
   "source": [
    "import pickle\n",
    "\n",
    "# Load the models\n",
    "with open('models/dv.bin', 'rb') as dv_file:\n",
    "    dv = pickle.load(dv_file)\n",
    "    \n",
    "with open('models/model1.bin', 'rb') as model_file:\n",
    "    model = pickle.load(model_file)\n",
    "\n",
    "# Define the client data\n",
    "client = {\"job\": \"management\", \"duration\": 400, \"poutcome\": \"success\"}\n",
    "\n",
    "# Transform the client data using DictVectorizer\n",
    "X_client = dv.transform([client])\n",
    "\n",
    "# Predict the probability of getting a subscription\n",
    "probability = model.predict_proba(X_client)[0, 1]\n",
    "\n",
    "print(f\"The probability that this client will get a subscription is: {probability:.3f}\")\n"
   ]
  },
  {
   "cell_type": "markdown",
   "id": "0c27d7bc-ad8b-49ae-bcb1-7654cedd8dae",
   "metadata": {},
   "source": [
    "### Answer 3: 0.759"
   ]
  },
  {
   "cell_type": "markdown",
   "id": "eafc4541-f416-46d0-9592-183f31733682",
   "metadata": {},
   "source": [
    "## Question 4\n",
    "\n",
    "Now let's serve this model as a web service\n",
    "- Install Flask and gunicorn (or waitress, if you're on Windows)\n",
    "- Write Flask code for serving the model\n",
    "- Now score this client using requests:\n",
    "\n",
    "```\n",
    "url = \"YOUR_URL\"\n",
    "client = {\"job\": \"student\", \"duration\": 280, \"poutcome\": \"failure\"}\n",
    "requests.post(url, json=client).json()\n",
    "```\n",
    "\n",
    "What's the probability that this client will get a subscription?\n",
    "- 0.335\n",
    "- 0.535\n",
    "- 0.735\n",
    "- 0.935\n",
    "  "
   ]
  },
  {
   "cell_type": "raw",
   "id": "7ecad218-c4e6-4ce1-93b8-7fc2eb502f85",
   "metadata": {},
   "source": [
    "shell\n",
    "\n",
    "pipenv shell\n",
    "pip install flask gunicorn"
   ]
  },
  {
   "cell_type": "raw",
   "id": "10d65988-a9ad-4888-95c6-2b38eadbd906",
   "metadata": {},
   "source": [
    "# webservice.py\n",
    "\n",
    "import pickle\n",
    "from flask import Flask, request, jsonify\n",
    "\n",
    "# Load the DictVectorizer and model\n",
    "with open('models/dv.bin', 'rb') as dv_file:\n",
    "    dv = pickle.load(dv_file)\n",
    "\n",
    "with open('models/model1.bin', 'rb') as model_file:\n",
    "    model = pickle.load(model_file)\n",
    "\n",
    "# Initialize Flask app\n",
    "app = Flask(__name__)\n",
    "\n",
    "@app.route('/predict', methods=['POST'])\n",
    "def predict():\n",
    "    client = request.get_json()  # Get JSON data from request\n",
    "    X_client = dv.transform([client])  # Transform client data\n",
    "    probability = model.predict_proba(X_client)[0, 1]  # Predict probability\n",
    "    return jsonify({\"subscription_probability\": probability})\n",
    "\n",
    "if __name__ == \"__main__\":\n",
    "    # Run the Flask app\n",
    "    app.run(host='0.0.0.0', port=9696, debug=True)\n"
   ]
  },
  {
   "cell_type": "raw",
   "id": "f2e04f39-bf0f-422a-9531-571f753b416d",
   "metadata": {},
   "source": [
    "shell --> execute from host\n",
    "\n",
    "pipenv shell\n",
    "\n",
    "gunicorn --bind 0.0.0.0:9696 webservice:app"
   ]
  },
  {
   "cell_type": "code",
   "execution_count": 8,
   "id": "8130e75b-263f-45e3-8c0c-02e0973e22d3",
   "metadata": {},
   "outputs": [
    {
     "name": "stdout",
     "output_type": "stream",
     "text": [
      "The probability that this client will get a subscription is: 0.335\n"
     ]
    }
   ],
   "source": [
    "import requests\n",
    "\n",
    "url = \"http://localhost:9696/predict\"\n",
    "client = {\"job\": \"student\", \"duration\": 280, \"poutcome\": \"failure\"}\n",
    "response = requests.post(url, json=client).json()\n",
    "\n",
    "print(f\"The probability that this client will get a subscription is: {response['subscription_probability']:.3f}\")\n"
   ]
  },
  {
   "cell_type": "markdown",
   "id": "7fc13a98-c957-4bcf-85b3-7baf42da42f6",
   "metadata": {},
   "source": [
    "### Answer 4: 0.335"
   ]
  },
  {
   "cell_type": "markdown",
   "id": "935dcf9b-fbeb-4703-bf87-dedcf47641c1",
   "metadata": {},
   "source": [
    "### Docker\n",
    "\n",
    "Install Docker. We will use it for the next two questions.\n",
    "\n",
    "For these questions, we prepared a base image: svizor/zoomcamp-model:3.11.5-slim. You'll need to use it (see Question 5 for an example).\n",
    "\n",
    "This image is based on python:3.11.5-slim and has a logistic regression model (a different one) as well a dictionary vectorizer inside.\n",
    "\n",
    "This is how the Dockerfile for this image looks like:\n",
    "\n",
    "```\n",
    "FROM python:3.11.5-slim\n",
    "WORKDIR /app\n",
    "COPY [\"model2.bin\", \"dv.bin\", \"./\"]\n",
    "```\n",
    "\n",
    "We already built it and then pushed it to svizor/zoomcamp-model:3.11.5-slim.\n",
    "\n",
    "Note: You don't need to build this docker image, it's just for your reference."
   ]
  },
  {
   "cell_type": "markdown",
   "id": "fa1dee11-10c0-40bd-9bb6-2410d7e79456",
   "metadata": {},
   "source": [
    "## Question 5\n",
    "\n",
    "Download the base image svizor/zoomcamp-model:3.11.5-slim. You can easily make it by using \n",
    "\n",
    "```\n",
    "docker pull\n",
    "```\n",
    " command.\n",
    "\n",
    "So what's the size of this base image?\n",
    "- 45 MB\n",
    "- 130 MB\n",
    "- 245 MB\n",
    "- 330 MB\n",
    "\n",
    "You can get this information when running \n",
    "\n",
    "```\n",
    "docker images\n",
    "```\n",
    "\n",
    "it'll be in the \"SIZE\" column."
   ]
  },
  {
   "cell_type": "raw",
   "id": "dbb77d53-a4b6-487d-ba8f-d6cce6516c14",
   "metadata": {},
   "source": [
    "shell\n",
    "\n",
    "(ml-zoomcamp) hduser@worker01:~/ml-zoomcamp/homework/05/models$ pipenv shell\n",
    "Launching subshell in virtual environment...\n",
    " source /home/hduser/.local/share/virtualenvs/models-KBPQhcT7/bin/activate\n",
    "(base) hduser@worker01:~/ml-zoomcamp/homework/05/models$  source /home/hduser/.local/share/virtualenvs/models-KBPQhcT7/bin/activate\n",
    "(models) (base) hduser@worker01:~/ml-zoomcamp/homework/05/models$ python -V\n",
    "Python 3.11.9\n",
    "\n",
    "(models) (base) hduser@worker01:~/ml-zoomcamp/homework/05/models$ docker pull svizor/zoomcamp-model:3.11.5-slim\n",
    "3.11.5-slim: Pulling from svizor/zoomcamp-model\n",
    "a803e7c4b030: Already exists \n",
    "bf3336e84c8e: Already exists \n",
    "eb76b60fbb0c: Already exists \n",
    "a2cee97f4fbd: Already exists \n",
    "0358d4e17ae3: Already exists \n",
    "fb37f8d7a667: Already exists \n",
    "4e69cd59a5af: Already exists \n",
    "Digest: sha256:15d61790363f892dfdef55f47b78feed751cb59704d47ea911df0ef3e9300c06\n",
    "Status: Downloaded newer image for svizor/zoomcamp-model:3.11.5-slim\n",
    "docker.io/svizor/zoomcamp-model:3.11.5-slim\n",
    "\n",
    "(models) (base) hduser@worker01:~/ml-zoomcamp/homework/05/models$ docker images |grep svizor\n",
    "svizor/zoomcamp-model                                 3.11.5-slim   975e7bdca086   9 days ago     130MB\n",
    "\n"
   ]
  },
  {
   "cell_type": "markdown",
   "id": "bde8d3a5-d0e8-4da2-bd47-9f7eaac6edf7",
   "metadata": {},
   "source": [
    "### Answer 5: 130MB"
   ]
  },
  {
   "cell_type": "markdown",
   "id": "e1aa23e5-5e78-4327-a3e5-111de1ab405d",
   "metadata": {},
   "source": [
    "### Dockerfile\n",
    "\n",
    "Now create your own Dockerfile based on the image we prepared.\n",
    "\n",
    "It should start like that:\n",
    "\n",
    "```\n",
    "FROM svizor/zoomcamp-model:3.11.5-slim\n",
    "# add your stuff here\n",
    "```\n",
    "\n",
    "Now complete it:\n",
    "- Install all the dependencies form the Pipenv file\n",
    "- Copy your Flask script\n",
    "- Run it with Gunicorn\n",
    "\n",
    "After that, you can build your docker image.\n"
   ]
  },
  {
   "cell_type": "markdown",
   "id": "0b90b84d-2102-48f6-837f-27cc5268c8c6",
   "metadata": {},
   "source": [
    "## Question 6\n",
    "\n",
    "Let's run your docker container!\n",
    "\n",
    "After running it, score this client once again:\n",
    "\n",
    "```\n",
    "url = \"YOUR_URL\"\n",
    "client = {\"job\": \"management\", \"duration\": 400, \"poutcome\": \"success\"}\n",
    "requests.post(url, json=client).json()\n",
    "```\n",
    "\n",
    "What's the probability that this client will get a subscription now?\n",
    "- 0.287\n",
    "- 0.530\n",
    "- 0.757\n",
    "- 0.960"
   ]
  },
  {
   "cell_type": "raw",
   "id": "41b83224-8e11-49b4-a0e8-35dd4104b166",
   "metadata": {},
   "source": [
    "shell\n",
    "\n",
    "1. Creare Dockerfile\n",
    "\n",
    "# Start with the base image\n",
    "FROM svizor/zoomcamp-model:3.11.5-slim\n",
    "\n",
    "# Set the working directory inside the container\n",
    "WORKDIR /app\n",
    "\n",
    "# Copy Pipenv files to the container\n",
    "COPY Pipfile Pipfile.lock /app/\n",
    "\n",
    "# Install dependencies using Pipenv\n",
    "RUN pip install pipenv && pipenv install --system --deploy\n",
    "\n",
    "# Copy your Flask application script to the container\n",
    "COPY webservice.py /app/\n",
    "\n",
    "# Copy models scripts to the container\n",
    "COPY model1.bin /app/\n",
    "COPY dv.bin /app/\n",
    "\n",
    "# Expose the port your app will run on\n",
    "EXPOSE 9696\n",
    "\n",
    "# Run the Flask app with Gunicorn\n",
    "CMD [\"gunicorn\", \"--bind\", \"0.0.0.0:9696\", \"webservice:app\"]\n",
    "\n",
    "\n",
    "2. Build Docker Image:\n",
    "docker build -t myapp:latest .\n",
    "\n",
    "\n",
    "3. Run the Docker Container\n",
    "docker run -d -p 9696:9696 myapp:latest\n",
    "\n",
    "\n",
    "4. Verify Docker Image and Container\n",
    "docker images\n",
    "docker ps\n"
   ]
  },
  {
   "cell_type": "code",
   "execution_count": 9,
   "id": "1b764801-4651-49a2-ad2b-a8d505288e94",
   "metadata": {},
   "outputs": [
    {
     "name": "stdout",
     "output_type": "stream",
     "text": [
      "The probability that this client will get a subscription is: 0.7590966516879658\n"
     ]
    }
   ],
   "source": [
    "import requests\n",
    "\n",
    "url = \"http://localhost:9696/predict\"\n",
    "client = {\"job\": \"management\", \"duration\": 400, \"poutcome\": \"success\"}\n",
    "response = requests.post(url, json=client).json()\n",
    "\n",
    "print(\"The probability that this client will get a subscription is:\", response[\"subscription_probability\"])\n"
   ]
  },
  {
   "cell_type": "markdown",
   "id": "689c6e4d-8e75-4699-983f-5a63e92ca5b6",
   "metadata": {},
   "source": [
    "### Answer 6: 0.757"
   ]
  },
  {
   "cell_type": "code",
   "execution_count": null,
   "id": "a02fae11-9789-4475-be3c-14b72ee8dae5",
   "metadata": {},
   "outputs": [],
   "source": []
  }
 ],
 "metadata": {
  "kernelspec": {
   "display_name": "Python 3 (ipykernel)",
   "language": "python",
   "name": "python3"
  },
  "language_info": {
   "codemirror_mode": {
    "name": "ipython",
    "version": 3
   },
   "file_extension": ".py",
   "mimetype": "text/x-python",
   "name": "python",
   "nbconvert_exporter": "python",
   "pygments_lexer": "ipython3",
   "version": "3.11.9"
  }
 },
 "nbformat": 4,
 "nbformat_minor": 5
}
