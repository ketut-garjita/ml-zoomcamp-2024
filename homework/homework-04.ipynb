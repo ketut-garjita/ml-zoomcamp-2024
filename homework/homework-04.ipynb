{
 "cells": [
  {
   "cell_type": "code",
   "execution_count": 3,
   "id": "f2d48eb0-840b-46da-8a9b-6b0019dfc712",
   "metadata": {},
   "outputs": [
    {
     "name": "stdout",
     "output_type": "stream",
     "text": [
      "--2024-10-20 19:40:34--  https://archive.ics.uci.edu/static/public/222/bank+marketing.zip\n",
      "Resolving archive.ics.uci.edu (archive.ics.uci.edu)... 128.195.10.252\n",
      "Connecting to archive.ics.uci.edu (archive.ics.uci.edu)|128.195.10.252|:443... connected.\n",
      "HTTP request sent, awaiting response... 200 OK\n",
      "Length: unspecified\n",
      "Saving to: ‘bank+marketing.zip’\n",
      "\n",
      "bank+marketing.zip      [       <=>          ] 999.85K   744KB/s    in 1.3s    \n",
      "\n",
      "2024-10-20 19:40:36 (744 KB/s) - ‘bank+marketing.zip’ saved [1023843]\n",
      "\n"
     ]
    }
   ],
   "source": [
    "# !wget https://archive.ics.uci.edu/static/public/222/bank+marketing.zip"
   ]
  },
  {
   "cell_type": "code",
   "execution_count": 4,
   "id": "f6a4be2c-9662-4651-8a4e-d1058041096b",
   "metadata": {},
   "outputs": [
    {
     "name": "stdout",
     "output_type": "stream",
     "text": [
      "Archive:  bank+marketing.zip\n",
      " extracting: bank.zip                \n",
      " extracting: bank-additional.zip     \n"
     ]
    }
   ],
   "source": [
    "# !unzip bank+marketing.zip "
   ]
  },
  {
   "cell_type": "code",
   "execution_count": 5,
   "id": "9115483c-6b03-420a-a08d-a16823eaeee4",
   "metadata": {},
   "outputs": [
    {
     "name": "stdout",
     "output_type": "stream",
     "text": [
      "Archive:  bank.zip\n",
      "  inflating: bank-full.csv           \n",
      "  inflating: bank-names.txt          \n",
      "  inflating: bank.csv                \n"
     ]
    }
   ],
   "source": [
    "# !unzip bank.zip"
   ]
  },
  {
   "cell_type": "code",
   "execution_count": 1,
   "id": "65a823a9-71c9-46b7-886a-b0106f9995cd",
   "metadata": {},
   "outputs": [
    {
     "data": {
      "text/html": [
       "<div>\n",
       "<style scoped>\n",
       "    .dataframe tbody tr th:only-of-type {\n",
       "        vertical-align: middle;\n",
       "    }\n",
       "\n",
       "    .dataframe tbody tr th {\n",
       "        vertical-align: top;\n",
       "    }\n",
       "\n",
       "    .dataframe thead th {\n",
       "        text-align: right;\n",
       "    }\n",
       "</style>\n",
       "<table border=\"1\" class=\"dataframe\">\n",
       "  <thead>\n",
       "    <tr style=\"text-align: right;\">\n",
       "      <th></th>\n",
       "      <th>age</th>\n",
       "      <th>job</th>\n",
       "      <th>marital</th>\n",
       "      <th>education</th>\n",
       "      <th>default</th>\n",
       "      <th>balance</th>\n",
       "      <th>housing</th>\n",
       "      <th>loan</th>\n",
       "      <th>contact</th>\n",
       "      <th>day</th>\n",
       "      <th>month</th>\n",
       "      <th>duration</th>\n",
       "      <th>campaign</th>\n",
       "      <th>pdays</th>\n",
       "      <th>previous</th>\n",
       "      <th>poutcome</th>\n",
       "      <th>y</th>\n",
       "    </tr>\n",
       "  </thead>\n",
       "  <tbody>\n",
       "    <tr>\n",
       "      <th>0</th>\n",
       "      <td>58</td>\n",
       "      <td>management</td>\n",
       "      <td>married</td>\n",
       "      <td>tertiary</td>\n",
       "      <td>no</td>\n",
       "      <td>2143</td>\n",
       "      <td>yes</td>\n",
       "      <td>no</td>\n",
       "      <td>unknown</td>\n",
       "      <td>5</td>\n",
       "      <td>may</td>\n",
       "      <td>261</td>\n",
       "      <td>1</td>\n",
       "      <td>-1</td>\n",
       "      <td>0</td>\n",
       "      <td>unknown</td>\n",
       "      <td>no</td>\n",
       "    </tr>\n",
       "    <tr>\n",
       "      <th>1</th>\n",
       "      <td>44</td>\n",
       "      <td>technician</td>\n",
       "      <td>single</td>\n",
       "      <td>secondary</td>\n",
       "      <td>no</td>\n",
       "      <td>29</td>\n",
       "      <td>yes</td>\n",
       "      <td>no</td>\n",
       "      <td>unknown</td>\n",
       "      <td>5</td>\n",
       "      <td>may</td>\n",
       "      <td>151</td>\n",
       "      <td>1</td>\n",
       "      <td>-1</td>\n",
       "      <td>0</td>\n",
       "      <td>unknown</td>\n",
       "      <td>no</td>\n",
       "    </tr>\n",
       "    <tr>\n",
       "      <th>2</th>\n",
       "      <td>33</td>\n",
       "      <td>entrepreneur</td>\n",
       "      <td>married</td>\n",
       "      <td>secondary</td>\n",
       "      <td>no</td>\n",
       "      <td>2</td>\n",
       "      <td>yes</td>\n",
       "      <td>yes</td>\n",
       "      <td>unknown</td>\n",
       "      <td>5</td>\n",
       "      <td>may</td>\n",
       "      <td>76</td>\n",
       "      <td>1</td>\n",
       "      <td>-1</td>\n",
       "      <td>0</td>\n",
       "      <td>unknown</td>\n",
       "      <td>no</td>\n",
       "    </tr>\n",
       "    <tr>\n",
       "      <th>3</th>\n",
       "      <td>47</td>\n",
       "      <td>blue-collar</td>\n",
       "      <td>married</td>\n",
       "      <td>unknown</td>\n",
       "      <td>no</td>\n",
       "      <td>1506</td>\n",
       "      <td>yes</td>\n",
       "      <td>no</td>\n",
       "      <td>unknown</td>\n",
       "      <td>5</td>\n",
       "      <td>may</td>\n",
       "      <td>92</td>\n",
       "      <td>1</td>\n",
       "      <td>-1</td>\n",
       "      <td>0</td>\n",
       "      <td>unknown</td>\n",
       "      <td>no</td>\n",
       "    </tr>\n",
       "    <tr>\n",
       "      <th>4</th>\n",
       "      <td>33</td>\n",
       "      <td>unknown</td>\n",
       "      <td>single</td>\n",
       "      <td>unknown</td>\n",
       "      <td>no</td>\n",
       "      <td>1</td>\n",
       "      <td>no</td>\n",
       "      <td>no</td>\n",
       "      <td>unknown</td>\n",
       "      <td>5</td>\n",
       "      <td>may</td>\n",
       "      <td>198</td>\n",
       "      <td>1</td>\n",
       "      <td>-1</td>\n",
       "      <td>0</td>\n",
       "      <td>unknown</td>\n",
       "      <td>no</td>\n",
       "    </tr>\n",
       "  </tbody>\n",
       "</table>\n",
       "</div>"
      ],
      "text/plain": [
       "   age           job  marital  education default  balance housing loan  \\\n",
       "0   58    management  married   tertiary      no     2143     yes   no   \n",
       "1   44    technician   single  secondary      no       29     yes   no   \n",
       "2   33  entrepreneur  married  secondary      no        2     yes  yes   \n",
       "3   47   blue-collar  married    unknown      no     1506     yes   no   \n",
       "4   33       unknown   single    unknown      no        1      no   no   \n",
       "\n",
       "   contact  day month  duration  campaign  pdays  previous poutcome   y  \n",
       "0  unknown    5   may       261         1     -1         0  unknown  no  \n",
       "1  unknown    5   may       151         1     -1         0  unknown  no  \n",
       "2  unknown    5   may        76         1     -1         0  unknown  no  \n",
       "3  unknown    5   may        92         1     -1         0  unknown  no  \n",
       "4  unknown    5   may       198         1     -1         0  unknown  no  "
      ]
     },
     "execution_count": 1,
     "metadata": {},
     "output_type": "execute_result"
    }
   ],
   "source": [
    "import pandas as pd\n",
    "from sklearn.model_selection import train_test_split\n",
    "\n",
    "# Load the dataset\n",
    "df = pd.read_csv('bank-full.csv', delimiter=';')\n",
    "\n",
    "# Display the first few rows to ensure the dataset is loaded properly\n",
    "df.head()\n"
   ]
  },
  {
   "cell_type": "code",
   "execution_count": 2,
   "id": "286a3dd1-5e26-4bc7-a187-87c88548e732",
   "metadata": {},
   "outputs": [
    {
     "data": {
      "text/plain": [
       "(45211, 15)"
      ]
     },
     "execution_count": 2,
     "metadata": {},
     "output_type": "execute_result"
    }
   ],
   "source": [
    "# Define the columns we need for the task\n",
    "columns = ['age', 'job', 'marital', 'education', 'balance', 'housing', 'contact', \n",
    "           'day', 'month', 'duration', 'campaign', 'pdays', 'previous', 'poutcome', 'y']\n",
    "\n",
    "# Filter the dataset to keep only the selected columns\n",
    "df = df[columns]\n",
    "\n",
    "# Check the shape of the dataset to confirm the filtering\n",
    "df.shape\n"
   ]
  },
  {
   "cell_type": "code",
   "execution_count": 3,
   "id": "d592256d-5872-4f14-ac68-64aaf8751ced",
   "metadata": {},
   "outputs": [
    {
     "name": "stdout",
     "output_type": "stream",
     "text": [
      "Train set: 27126\n",
      "Validation set: 9042\n",
      "Test set: 9043\n"
     ]
    }
   ],
   "source": [
    "# First, split into train+val and test (80% train+val, 20% test)\n",
    "df_full_train, df_test = train_test_split(df, test_size=0.2, random_state=1)\n",
    "\n",
    "# Now, split the remaining 80% into train (60%) and validation (20%)\n",
    "df_train, df_val = train_test_split(df_full_train, test_size=0.25, random_state=1)\n",
    "\n",
    "# Check the sizes of the splits\n",
    "print(f\"Train set: {len(df_train)}\")\n",
    "print(f\"Validation set: {len(df_val)}\")\n",
    "print(f\"Test set: {len(df_test)}\")\n"
   ]
  },
  {
   "cell_type": "code",
   "execution_count": 12,
   "id": "d6dff3c6-d994-466b-8cb3-f75929b9414f",
   "metadata": {},
   "outputs": [
    {
     "name": "stdout",
     "output_type": "stream",
     "text": [
      "Train set: 27126\n",
      "Validation set: 9042\n",
      "Test set: 9043\n"
     ]
    }
   ],
   "source": [
    "# Run this code every time solve questions: 1, 2 ,3, 4\n",
    "\n",
    "import pandas as pd\n",
    "from sklearn.model_selection import train_test_split\n",
    "\n",
    "# Load the dataset\n",
    "df = pd.read_csv('bank-full.csv', delimiter=';')\n",
    "\n",
    "# Display the first few rows to ensure the dataset is loaded properly\n",
    "df.head()\n",
    "\n",
    "\n",
    "# Define the columns we need for the task\n",
    "columns = ['age', 'job', 'marital', 'education', 'balance', 'housing', 'contact', \n",
    "           'day', 'month', 'duration', 'campaign', 'pdays', 'previous', 'poutcome', 'y']\n",
    "\n",
    "# Filter the dataset to keep only the selected columns\n",
    "df = df[columns]\n",
    "\n",
    "# Check the shape of the dataset to confirm the filtering\n",
    "df.shape\n",
    "\n",
    "\n",
    "# First, split into train+val and test (80% train+val, 20% test)\n",
    "df_full_train, df_test = train_test_split(df, test_size=0.2, random_state=1)\n",
    "\n",
    "# Now, split the remaining 80% into train (60%) and validation (20%)\n",
    "df_train, df_val = train_test_split(df_full_train, test_size=0.25, random_state=1)\n",
    "\n",
    "# Check the sizes of the splits\n",
    "print(f\"Train set: {len(df_train)}\")\n",
    "print(f\"Validation set: {len(df_val)}\")\n",
    "print(f\"Test set: {len(df_test)}\")\n",
    "\n",
    "\n"
   ]
  },
  {
   "cell_type": "markdown",
   "id": "f2943d7b-7791-440d-8b5a-b735cf0e61b4",
   "metadata": {},
   "source": [
    "## Question 1: ROC AUC feature importance\n",
    "\n",
    "ROC AUC could also be used to evaluate feature importance of numerical variables.\n",
    "\n",
    "Let's do that\n",
    "- For each numerical variable, use it as score (aka prediction) and compute the AUC with the y variable as ground truth.\n",
    "- Use the training dataset for that\n",
    "- \n",
    "If your AUC is < 0.5, invert this variable by putting \"-\" in front\n",
    "\n",
    "(e.g. -df_train['engine_hp'])\n",
    "\n",
    "AUC can go below 0.5 if the variable is negatively correlated with the target variable. You can change the direction of the correlation by negating this variable - then negative correlation becomes positive.\n",
    "\n",
    "Which numerical variable (among the following 4) has the highest AUC?\n",
    "- balance\n",
    "- day\n",
    "- duration\n",
    "- previous"
   ]
  },
  {
   "cell_type": "code",
   "execution_count": 5,
   "id": "755084a9-8c51-4ab9-bc6b-2d329eff28f4",
   "metadata": {},
   "outputs": [
    {
     "name": "stdout",
     "output_type": "stream",
     "text": [
      "balance: AUC = 0.589\n",
      "day: AUC = 0.526\n",
      "duration: AUC = 0.815\n",
      "previous: AUC = 0.599\n"
     ]
    }
   ],
   "source": [
    "import pandas as pd\n",
    "from sklearn.metrics import roc_auc_score\n",
    "\n",
    "# Assuming df_train has been split and target variable 'y' is already binary (1 for 'yes', 0 for 'no')\n",
    "df_train['y'] = df_train['y'].apply(lambda x: 1 if x == 'yes' else 0)\n",
    "\n",
    "# Function to compute AUC and invert the feature if AUC < 0.5\n",
    "def compute_auc(feature, df):\n",
    "    auc = roc_auc_score(df['y'], df[feature])\n",
    "    if auc < 0.5:\n",
    "        auc = roc_auc_score(df['y'], -df[feature])  # Invert if AUC < 0.5\n",
    "    return auc\n",
    "\n",
    "# List of numerical features to evaluate\n",
    "numerical_features = ['balance', 'day', 'duration', 'previous']\n",
    "\n",
    "# Compute the AUC for each feature\n",
    "for feature in numerical_features:\n",
    "    auc = compute_auc(feature, df_train)\n",
    "    print(f\"{feature}: AUC = {auc:.3f}\")\n"
   ]
  },
  {
   "cell_type": "markdown",
   "id": "bead2a32-5347-49c5-b9f2-18fff000f4df",
   "metadata": {},
   "source": [
    "### Answer: duration"
   ]
  },
  {
   "cell_type": "markdown",
   "id": "d1105b2e-e7ca-4b0c-906b-73fdf262fd83",
   "metadata": {},
   "source": [
    "## Question 2: Training the model\n",
    "\n",
    "Apply one-hot-encoding using DictVectorizer and train the logistic regression with these parameters:\n",
    "\n",
    "```\n",
    "LogisticRegression(solver='liblinear', C=1.0, max_iter=1000)\n",
    "```\n",
    "\n",
    "What's the AUC of this model on the validation dataset? (round to 3 digits)\n",
    "- 0.69\n",
    "- 0.79\n",
    "- 0.89\n",
    "- 0.99"
   ]
  },
  {
   "cell_type": "code",
   "execution_count": 8,
   "id": "c81dcd6a-c6cd-499b-ae00-cdd502c577fc",
   "metadata": {},
   "outputs": [
    {
     "name": "stdout",
     "output_type": "stream",
     "text": [
      "AUC on the validation set: 0.900\n"
     ]
    }
   ],
   "source": [
    "import pandas as pd\n",
    "from sklearn.feature_extraction import DictVectorizer\n",
    "from sklearn.linear_model import LogisticRegression\n",
    "from sklearn.metrics import roc_auc_score\n",
    "\n",
    "# Convert target 'y' to binary (1 for 'yes', 0 for 'no')\n",
    "df_train['y'] = df_train['y'].apply(lambda x: 1 if x == 'yes' else 0)\n",
    "df_val['y'] = df_val['y'].apply(lambda x: 1 if x == 'yes' else 0)\n",
    "\n",
    "# Feature columns\n",
    "features = ['age', 'job', 'marital', 'education', 'balance', 'housing', 'contact', \n",
    "            'day', 'month', 'duration', 'campaign', 'pdays', 'previous', 'poutcome']\n",
    "\n",
    "# Convert to dictionaries\n",
    "train_dicts = df_train[features].to_dict(orient='records')\n",
    "val_dicts = df_val[features].to_dict(orient='records')\n",
    "\n",
    "# Apply one-hot encoding using DictVectorizer\n",
    "dv = DictVectorizer(sparse=False)\n",
    "X_train = dv.fit_transform(train_dicts)\n",
    "X_val = dv.transform(val_dicts)\n",
    "\n",
    "# Train logistic regression model\n",
    "model = LogisticRegression(solver='liblinear', C=1.0, max_iter=1000)\n",
    "model.fit(X_train, df_train['y'])\n",
    "\n",
    "# Predict probabilities on validation set\n",
    "y_pred_val = model.predict_proba(X_val)[:, 1]\n",
    "\n",
    "# Compute AUC on validation set\n",
    "auc_val = roc_auc_score(df_val['y'], y_pred_val)\n",
    "print(f\"AUC on the validation set: {auc_val:.3f}\")\n"
   ]
  },
  {
   "cell_type": "markdown",
   "id": "961260cd-4420-4aae-9ca2-ba8e1fe73b7a",
   "metadata": {},
   "source": [
    "### Answer: 0.89"
   ]
  },
  {
   "cell_type": "markdown",
   "id": "c706b2e4-7bca-4286-82b6-0c81e953d4ac",
   "metadata": {},
   "source": [
    "## Question 3: Precision and Recall\n",
    "\n",
    "Now let's compute precision and recall for our model.\n",
    "- Evaluate the model on all thresholds from 0.0 to 1.0 with step 0.01\n",
    "- For each threshold, compute precision and recall\n",
    "- Plot them\n",
    "\n",
    "At which threshold precision and recall curves intersect?\n",
    "- 0.265\n",
    "- 0.465\n",
    "- 0.665\n",
    "- 0.865"
   ]
  },
  {
   "cell_type": "code",
   "execution_count": 10,
   "id": "a75d7d94-a4bb-4637-ba3e-f82115a78228",
   "metadata": {},
   "outputs": [],
   "source": [
    "# Convert target 'y' to binary (1 for 'yes', 0 for 'no') for both training and validation datasets\n",
    "df_train['y'] = df_train['y'].apply(lambda x: 1 if x == 'yes' else 0)\n",
    "df_val['y'] = df_val['y'].apply(lambda x: 1 if x == 'yes' else 0)\n"
   ]
  },
  {
   "cell_type": "code",
   "execution_count": 11,
   "id": "b84fe816-1487-49c4-b62d-ada832824d5f",
   "metadata": {},
   "outputs": [
    {
     "data": {
      "image/png": "[encoded data removed]",
      "text/plain": [
       "<Figure size 640x480 with 1 Axes>"
      ]
     },
     "metadata": {},
     "output_type": "display_data"
    },
    {
     "name": "stdout",
     "output_type": "stream",
     "text": [
      "Precision and Recall curves intersect at threshold: 0.270\n"
     ]
    }
   ],
   "source": [
    "import numpy as np\n",
    "import matplotlib.pyplot as plt\n",
    "from sklearn.metrics import precision_score, recall_score\n",
    "\n",
    "# Predict probabilities for the positive class (label 1)\n",
    "y_pred_val = model.predict_proba(X_val)[:, 1]\n",
    "\n",
    "# Define thresholds from 0.0 to 1.0 with step 0.01\n",
    "thresholds = np.arange(0.0, 1.01, 0.01)\n",
    "\n",
    "# Initialize lists to store precision and recall values\n",
    "precisions = []\n",
    "recalls = []\n",
    "\n",
    "# For each threshold, calculate precision and recall with zero_division=1\n",
    "for t in thresholds:\n",
    "    y_pred_threshold = (y_pred_val >= t).astype(int)\n",
    "    precisions.append(precision_score(df_val['y'], y_pred_threshold, zero_division=1))\n",
    "    recalls.append(recall_score(df_val['y'], y_pred_threshold))\n",
    "\n",
    "# Plot precision and recall curves\n",
    "plt.plot(thresholds, precisions, label='Precision', color='blue')\n",
    "plt.plot(thresholds, recalls, label='Recall', color='green')\n",
    "plt.xlabel('Threshold')\n",
    "plt.ylabel('Score')\n",
    "plt.title('Precision and Recall vs Threshold')\n",
    "plt.legend()\n",
    "plt.grid(True)\n",
    "plt.show()\n",
    "\n",
    "# Find the threshold where precision and recall are closest\n",
    "differences = np.abs(np.array(precisions) - np.array(recalls))\n",
    "idx = np.argmin(differences)\n",
    "intersection_threshold = thresholds[idx]\n",
    "print(f\"Precision and Recall curves intersect at threshold: {intersection_threshold:.3f}\")\n"
   ]
  },
  {
   "cell_type": "markdown",
   "id": "cb99c689-35c5-4876-9c36-85f39818b553",
   "metadata": {},
   "source": [
    "### Answer: 0.265"
   ]
  },
  {
   "attachments": {
    "372143f2-677a-4e32-86dd-d62432cf43fe.png": {
     "image/png": "[encoded data removed]"
    }
   },
   "cell_type": "markdown",
   "id": "94d859f5-0243-46b8-bfee-8df50978e301",
   "metadata": {},
   "source": [
    "## Question 4: F1 score\n",
    "\n",
    "Precision and recall are conflicting - when one grows, the other goes down. That's why they are often combined into the F1 score - a metrics that takes into account both\n",
    "\n",
    "This is the formula for computing F1:\n",
    "\n",
    "![image.png](attachment:372143f2-677a-4e32-86dd-d62432cf43fe.png)\n",
    "\n",
    "Where P is precision and R is recall.\n",
    "\n",
    "Let's compute F1 for all thresholds from 0.0 to 1.0 with increment 0.01\n",
    "\n",
    "At which threshold F1 is maximal?\n",
    "- 0.02\n",
    "- 0.22\n",
    "- 0.42\n",
    "- 0.62"
   ]
  },
  {
   "cell_type": "code",
   "execution_count": 14,
   "id": "0f901da2-29b8-4f1c-9780-04be1052ef40",
   "metadata": {},
   "outputs": [],
   "source": [
    "# Convert target 'y' to binary (1 for 'yes', 0 for 'no') for both training and validation datasets\n",
    "df_train['y'] = df_train['y'].apply(lambda x: 1 if x == 'yes' else 0)\n",
    "df_val['y'] = df_val['y'].apply(lambda x: 1 if x == 'yes' else 0)"
   ]
  },
  {
   "cell_type": "code",
   "execution_count": 15,
   "id": "2bb45877-9dcf-4744-9f38-12120c110b2a",
   "metadata": {},
   "outputs": [
    {
     "name": "stdout",
     "output_type": "stream",
     "text": [
      "F1 score is maximal at threshold: 0.22\n"
     ]
    }
   ],
   "source": [
    "import numpy as np\n",
    "from sklearn.metrics import precision_score, recall_score\n",
    "\n",
    "# Predict probabilities for the positive class (label 1)\n",
    "y_pred_val = model.predict_proba(X_val)[:, 1]\n",
    "\n",
    "# Define thresholds from 0.0 to 1.0 with step 0.01\n",
    "thresholds = np.arange(0.0, 1.01, 0.01)\n",
    "\n",
    "# Initialize lists to store precision, recall, and F1 scores\n",
    "precisions = []\n",
    "recalls = []\n",
    "f1_scores = []\n",
    "\n",
    "# For each threshold, calculate precision, recall, and F1 score\n",
    "for t in thresholds:\n",
    "    y_pred_threshold = (y_pred_val >= t).astype(int)\n",
    "    \n",
    "    precision = precision_score(df_val['y'], y_pred_threshold, zero_division=1)\n",
    "    recall = recall_score(df_val['y'], y_pred_threshold)\n",
    "    \n",
    "    precisions.append(precision)\n",
    "    recalls.append(recall)\n",
    "    \n",
    "    # Calculate F1 score\n",
    "    if precision + recall > 0:\n",
    "        f1 = 2 * (precision * recall) / (precision + recall)\n",
    "    else:\n",
    "        f1 = 0\n",
    "    f1_scores.append(f1)\n",
    "\n",
    "# Convert lists to numpy arrays for easier indexing\n",
    "f1_scores = np.array(f1_scores)\n",
    "\n",
    "# Find the index of the maximum F1 score\n",
    "max_f1_index = np.argmax(f1_scores)\n",
    "best_threshold = thresholds[max_f1_index]\n",
    "\n",
    "print(f\"F1 score is maximal at threshold: {best_threshold:.2f}\")\n"
   ]
  },
  {
   "cell_type": "markdown",
   "id": "111e37ba-2b71-437f-b964-07d70e1e4364",
   "metadata": {},
   "source": [
    "### Answer: 0.22"
   ]
  },
  {
   "cell_type": "markdown",
   "id": "431b87bc-97ae-406c-a34c-bd8254c6f3ac",
   "metadata": {},
   "source": [
    "## Question 5: 5-Fold CV\n",
    "\n",
    "Use the KFold class from Scikit-Learn to evaluate our model on 5 different folds:\n",
    "\n",
    "```\n",
    "KFold(n_splits=5, shuffle=True, random_state=1)\n",
    "```\n",
    "- Iterate over different folds of df_full_train\n",
    "- Split the data into train and validation\n",
    "- Train the model on train with these parameters: LogisticRegression(solver='liblinear', C=1.0, max_iter=1000)\n",
    "- Use AUC to evaluate the model on validation\n",
    "\n",
    "How large is standard deviation of the scores across different folds?\n",
    "- 0.0001\n",
    "- 0.006\n",
    "- 0.06\n",
    "- 0.26"
   ]
  },
  {
   "cell_type": "code",
   "execution_count": 16,
   "id": "55b8a68a-1985-4a18-8c59-33019a71b229",
   "metadata": {},
   "outputs": [
    {
     "name": "stdout",
     "output_type": "stream",
     "text": [
      "Mean AUC: 0.906\n",
      "Standard Deviation of AUC: 0.005693\n"
     ]
    }
   ],
   "source": [
    "from sklearn.model_selection import KFold\n",
    "from sklearn.linear_model import LogisticRegression\n",
    "from sklearn.metrics import roc_auc_score\n",
    "import numpy as np\n",
    "\n",
    "# Define categorical and numerical features\n",
    "categorical = ['job', 'marital', 'education', 'housing', 'contact', 'month', 'poutcome']\n",
    "numerical = ['age', 'balance', 'day', 'duration', 'campaign', 'pdays', 'previous']\n",
    "\n",
    "# Initialize KFold with 5 splits\n",
    "kf = KFold(n_splits=5, shuffle=True, random_state=1)\n",
    "\n",
    "# Store AUC scores\n",
    "auc_scores = []\n",
    "\n",
    "# Iterate over different folds\n",
    "for train_idx, val_idx in kf.split(df_full_train):\n",
    "    # Split data into training and validation sets for this fold\n",
    "    df_train_fold = df_full_train.iloc[train_idx]\n",
    "    df_val_fold = df_full_train.iloc[val_idx]\n",
    "    \n",
    "    # Prepare the data (features and target) for this fold\n",
    "    X_train_fold = dv.transform(df_train_fold[categorical + numerical].to_dict(orient='records'))\n",
    "    y_train_fold = df_train_fold['y'].values\n",
    "    \n",
    "    X_val_fold = dv.transform(df_val_fold[categorical + numerical].to_dict(orient='records'))\n",
    "    y_val_fold = df_val_fold['y'].values\n",
    "    \n",
    "    # Train the logistic regression model\n",
    "    model = LogisticRegression(solver='liblinear', C=1.0, max_iter=1000)\n",
    "    model.fit(X_train_fold, y_train_fold)\n",
    "    \n",
    "    # Predict probabilities on the validation set\n",
    "    y_pred_val_fold = model.predict_proba(X_val_fold)[:, 1]\n",
    "    \n",
    "    # Calculate AUC for this fold\n",
    "    auc = roc_auc_score(y_val_fold, y_pred_val_fold)\n",
    "    auc_scores.append(auc)\n",
    "\n",
    "# Convert list of AUC scores to a numpy array for easy calculations\n",
    "auc_scores = np.array(auc_scores)\n",
    "\n",
    "# Calculate the mean and standard deviation of the AUC scores\n",
    "mean_auc = np.mean(auc_scores)\n",
    "std_auc = np.std(auc_scores)\n",
    "\n",
    "print(f'Mean AUC: {mean_auc:.3f}')\n",
    "print(f'Standard Deviation of AUC: {std_auc:.6f}')\n"
   ]
  },
  {
   "cell_type": "markdown",
   "id": "339e7697-c8c7-42ae-8d36-1db9582fe67b",
   "metadata": {},
   "source": [
    "### Answer: 0.006"
   ]
  },
  {
   "cell_type": "markdown",
   "id": "33783040-9cd5-4514-ae30-aef7bb0c2172",
   "metadata": {},
   "source": [
    "## Question 6: Hyperparameter Tuning\n",
    "\n",
    "Now let's use 5-Fold cross-validation to find the best parameter C\n",
    "- Iterate over the following C values: [0.000001, 0.001, 1]\n",
    "- Initialize KFold with the same parameters as previously\n",
    "- Use these parameters for the model: LogisticRegression(solver='liblinear', C=C, max_iter=1000)\n",
    "- Compute the mean score as well as the std (round the mean and std to 3 decimal digits)\n",
    "\n",
    "Which C leads to the best mean score?\n",
    "- 0.000001 \n",
    "- 0.001\n",
    "- 1\n",
    "  \n",
    "If you have ties, select the score with the lowest std. If you still have ties, select the smallest C."
   ]
  },
  {
   "cell_type": "code",
   "execution_count": 17,
   "id": "e9a01cc6-c70b-4300-b2b6-2dd64c939f95",
   "metadata": {},
   "outputs": [
    {
     "name": "stdout",
     "output_type": "stream",
     "text": [
      "C=1e-06: Mean AUC=0.701, Std AUC=0.009\n",
      "C=0.001: Mean AUC=0.861, Std AUC=0.007\n",
      "C=1: Mean AUC=0.906, Std AUC=0.006\n",
      "Best C: 1 with Mean AUC=0.906 and Std AUC=0.006\n"
     ]
    }
   ],
   "source": [
    "from sklearn.model_selection import KFold\n",
    "from sklearn.linear_model import LogisticRegression\n",
    "from sklearn.metrics import roc_auc_score\n",
    "import numpy as np\n",
    "\n",
    "# Define categorical and numerical features\n",
    "categorical = ['job', 'marital', 'education', 'housing', 'contact', 'month', 'poutcome']\n",
    "numerical = ['age', 'balance', 'day', 'duration', 'campaign', 'pdays', 'previous']\n",
    "\n",
    "# C values to iterate over\n",
    "C_values = [0.000001, 0.001, 1]\n",
    "\n",
    "# Initialize KFold with 5 splits\n",
    "kf = KFold(n_splits=5, shuffle=True, random_state=1)\n",
    "\n",
    "# Store the results\n",
    "results = []\n",
    "\n",
    "# Iterate over different values of C\n",
    "for C in C_values:\n",
    "    auc_scores = []\n",
    "    \n",
    "    # Perform 5-fold cross-validation\n",
    "    for train_idx, val_idx in kf.split(df_full_train):\n",
    "        df_train_fold = df_full_train.iloc[train_idx]\n",
    "        df_val_fold = df_full_train.iloc[val_idx]\n",
    "        \n",
    "        # Prepare the data (features and target)\n",
    "        X_train_fold = dv.transform(df_train_fold[categorical + numerical].to_dict(orient='records'))\n",
    "        y_train_fold = df_train_fold['y'].values\n",
    "        \n",
    "        X_val_fold = dv.transform(df_val_fold[categorical + numerical].to_dict(orient='records'))\n",
    "        y_val_fold = df_val_fold['y'].values\n",
    "        \n",
    "        # Train the logistic regression model with the current value of C\n",
    "        model = LogisticRegression(solver='liblinear', C=C, max_iter=1000)\n",
    "        model.fit(X_train_fold, y_train_fold)\n",
    "        \n",
    "        # Predict probabilities on the validation set\n",
    "        y_pred_val_fold = model.predict_proba(X_val_fold)[:, 1]\n",
    "        \n",
    "        # Calculate AUC for this fold\n",
    "        auc = roc_auc_score(y_val_fold, y_pred_val_fold)\n",
    "        auc_scores.append(auc)\n",
    "    \n",
    "    # Calculate mean and std of AUC scores for this C\n",
    "    mean_auc = np.mean(auc_scores)\n",
    "    std_auc = np.std(auc_scores)\n",
    "    \n",
    "    # Store the result (C, mean_auc, std_auc)\n",
    "    results.append((C, mean_auc, std_auc))\n",
    "\n",
    "# Print results\n",
    "for C, mean_auc, std_auc in results:\n",
    "    print(f'C={C}: Mean AUC={mean_auc:.3f}, Std AUC={std_auc:.3f}')\n",
    "\n",
    "# Find the best C based on mean AUC, and if tied, based on the lowest std\n",
    "best_C = sorted(results, key=lambda x: (-x[1], x[2], x[0]))[0]  # Sort by mean_auc (descending), then std_auc (ascending), then C (ascending)\n",
    "\n",
    "print(f'Best C: {best_C[0]} with Mean AUC={best_C[1]:.3f} and Std AUC={best_C[2]:.3f}')\n"
   ]
  },
  {
   "cell_type": "markdown",
   "id": "519abb89-71ed-4be1-8dc7-1d4ddd1363d5",
   "metadata": {},
   "source": [
    "### Answer: 1"
   ]
  },
  {
   "cell_type": "code",
   "execution_count": null,
   "id": "4bc06360-ae59-47d5-bf12-78a8c15fa5b4",
   "metadata": {},
   "outputs": [],
   "source": []
  }
 ],
 "metadata": {
  "kernelspec": {
   "display_name": "Python 3 (ipykernel)",
   "language": "python",
   "name": "python3"
  },
  "language_info": {
   "codemirror_mode": {
    "name": "ipython",
    "version": 3
   },
   "file_extension": ".py",
   "mimetype": "text/x-python",
   "name": "python",
   "nbconvert_exporter": "python",
   "pygments_lexer": "ipython3",
   "version": "3.11.9"
  }
 },
 "nbformat": 4,
 "nbformat_minor": 5
}
