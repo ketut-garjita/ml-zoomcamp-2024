{
 "cells": [
  {
   "cell_type": "markdown",
   "id": "e7d03d18-fa0a-4a5d-b6d3-debc757e4711",
   "metadata": {
    "scrolled": true
   },
   "source": [
    "## Dataset Preparation and Loading"
   ]
  },
  {
   "cell_type": "code",
   "execution_count": 1,
   "id": "4c3aa2aa-682a-4eae-ac34-aba542d5d2e3",
   "metadata": {
    "scrolled": true
   },
   "outputs": [
    {
     "name": "stdout",
     "output_type": "stream",
     "text": [
      "--2024-11-04 18:45:05--  https://github.com/alexeygrigorev/datasets/raw/refs/heads/master/jamb_exam_results.csv\n",
      "Resolving github.com (github.com)... 20.205.243.166\n",
      "Connecting to github.com (github.com)|20.205.243.166|:443... connected.\n",
      "HTTP request sent, awaiting response... 302 Found\n",
      "Location: https://raw.githubusercontent.com/alexeygrigorev/datasets/refs/heads/master/jamb_exam_results.csv [following]\n",
      "--2024-11-04 18:45:05--  https://raw.githubusercontent.com/alexeygrigorev/datasets/refs/heads/master/jamb_exam_results.csv\n",
      "Resolving raw.githubusercontent.com (raw.githubusercontent.com)... 185.199.110.133, 185.199.109.133, 185.199.108.133, ...\n",
      "Connecting to raw.githubusercontent.com (raw.githubusercontent.com)|185.199.110.133|:443... connected.\n",
      "HTTP request sent, awaiting response... 200 OK\n",
      "Length: 391501 (382K) [text/plain]\n",
      "Saving to: ‘jamb_exam_results.csv.4’\n",
      "\n",
      "jamb_exam_results.c 100%[===================>] 382.33K  --.-KB/s    in 0.1s    \n",
      "\n",
      "2024-11-04 18:45:06 (3.40 MB/s) - ‘jamb_exam_results.csv.4’ saved [391501/391501]\n",
      "\n"
     ]
    }
   ],
   "source": [
    "!wget https://github.com/alexeygrigorev/datasets/raw/refs/heads/master/jamb_exam_results.csv"
   ]
  },
  {
   "cell_type": "markdown",
   "id": "d741c2e4-e164-409e-9970-7059d9e87784",
   "metadata": {},
   "source": [
    "## Loading the Dataset and Preprocessing"
   ]
  },
  {
   "cell_type": "code",
   "execution_count": 2,
   "id": "8b04f985-8750-46dc-8b9a-76f3b4eb651b",
   "metadata": {},
   "outputs": [
    {
     "data": {
      "text/html": [
       "<div>\n",
       "<style scoped>\n",
       "    .dataframe tbody tr th:only-of-type {\n",
       "        vertical-align: middle;\n",
       "    }\n",
       "\n",
       "    .dataframe tbody tr th {\n",
       "        vertical-align: top;\n",
       "    }\n",
       "\n",
       "    .dataframe thead th {\n",
       "        text-align: right;\n",
       "    }\n",
       "</style>\n",
       "<table border=\"1\" class=\"dataframe\">\n",
       "  <thead>\n",
       "    <tr style=\"text-align: right;\">\n",
       "      <th></th>\n",
       "      <th>jamb_score</th>\n",
       "      <th>study_hours_per_week</th>\n",
       "      <th>attendance_rate</th>\n",
       "      <th>teacher_quality</th>\n",
       "      <th>distance_to_school</th>\n",
       "      <th>school_type</th>\n",
       "      <th>school_location</th>\n",
       "      <th>extra_tutorials</th>\n",
       "      <th>access_to_learning_materials</th>\n",
       "      <th>parent_involvement</th>\n",
       "      <th>it_knowledge</th>\n",
       "      <th>student_id</th>\n",
       "      <th>age</th>\n",
       "      <th>gender</th>\n",
       "      <th>socioeconomic_status</th>\n",
       "      <th>parent_education_level</th>\n",
       "      <th>assignments_completed</th>\n",
       "    </tr>\n",
       "  </thead>\n",
       "  <tbody>\n",
       "    <tr>\n",
       "      <th>0</th>\n",
       "      <td>192</td>\n",
       "      <td>22</td>\n",
       "      <td>78</td>\n",
       "      <td>4</td>\n",
       "      <td>12.4</td>\n",
       "      <td>Public</td>\n",
       "      <td>Urban</td>\n",
       "      <td>Yes</td>\n",
       "      <td>Yes</td>\n",
       "      <td>High</td>\n",
       "      <td>Medium</td>\n",
       "      <td>1</td>\n",
       "      <td>17</td>\n",
       "      <td>Male</td>\n",
       "      <td>Low</td>\n",
       "      <td>Tertiary</td>\n",
       "      <td>2</td>\n",
       "    </tr>\n",
       "    <tr>\n",
       "      <th>1</th>\n",
       "      <td>207</td>\n",
       "      <td>14</td>\n",
       "      <td>88</td>\n",
       "      <td>4</td>\n",
       "      <td>2.7</td>\n",
       "      <td>Public</td>\n",
       "      <td>Rural</td>\n",
       "      <td>No</td>\n",
       "      <td>Yes</td>\n",
       "      <td>High</td>\n",
       "      <td>High</td>\n",
       "      <td>2</td>\n",
       "      <td>15</td>\n",
       "      <td>Male</td>\n",
       "      <td>High</td>\n",
       "      <td>NaN</td>\n",
       "      <td>1</td>\n",
       "    </tr>\n",
       "    <tr>\n",
       "      <th>2</th>\n",
       "      <td>182</td>\n",
       "      <td>29</td>\n",
       "      <td>87</td>\n",
       "      <td>2</td>\n",
       "      <td>9.6</td>\n",
       "      <td>Public</td>\n",
       "      <td>Rural</td>\n",
       "      <td>Yes</td>\n",
       "      <td>Yes</td>\n",
       "      <td>High</td>\n",
       "      <td>Medium</td>\n",
       "      <td>3</td>\n",
       "      <td>20</td>\n",
       "      <td>Female</td>\n",
       "      <td>High</td>\n",
       "      <td>Tertiary</td>\n",
       "      <td>2</td>\n",
       "    </tr>\n",
       "    <tr>\n",
       "      <th>3</th>\n",
       "      <td>210</td>\n",
       "      <td>29</td>\n",
       "      <td>99</td>\n",
       "      <td>2</td>\n",
       "      <td>2.6</td>\n",
       "      <td>Public</td>\n",
       "      <td>Urban</td>\n",
       "      <td>No</td>\n",
       "      <td>Yes</td>\n",
       "      <td>Medium</td>\n",
       "      <td>High</td>\n",
       "      <td>4</td>\n",
       "      <td>22</td>\n",
       "      <td>Female</td>\n",
       "      <td>Medium</td>\n",
       "      <td>Tertiary</td>\n",
       "      <td>1</td>\n",
       "    </tr>\n",
       "    <tr>\n",
       "      <th>4</th>\n",
       "      <td>199</td>\n",
       "      <td>12</td>\n",
       "      <td>98</td>\n",
       "      <td>3</td>\n",
       "      <td>8.8</td>\n",
       "      <td>Public</td>\n",
       "      <td>Urban</td>\n",
       "      <td>No</td>\n",
       "      <td>Yes</td>\n",
       "      <td>Medium</td>\n",
       "      <td>Medium</td>\n",
       "      <td>5</td>\n",
       "      <td>22</td>\n",
       "      <td>Female</td>\n",
       "      <td>Medium</td>\n",
       "      <td>Tertiary</td>\n",
       "      <td>1</td>\n",
       "    </tr>\n",
       "  </tbody>\n",
       "</table>\n",
       "</div>"
      ],
      "text/plain": [
       "   jamb_score  study_hours_per_week  attendance_rate  teacher_quality  \\\n",
       "0         192                    22               78                4   \n",
       "1         207                    14               88                4   \n",
       "2         182                    29               87                2   \n",
       "3         210                    29               99                2   \n",
       "4         199                    12               98                3   \n",
       "\n",
       "   distance_to_school school_type school_location extra_tutorials  \\\n",
       "0                12.4      Public           Urban             Yes   \n",
       "1                 2.7      Public           Rural              No   \n",
       "2                 9.6      Public           Rural             Yes   \n",
       "3                 2.6      Public           Urban              No   \n",
       "4                 8.8      Public           Urban              No   \n",
       "\n",
       "  access_to_learning_materials parent_involvement it_knowledge  student_id  \\\n",
       "0                          Yes               High       Medium           1   \n",
       "1                          Yes               High         High           2   \n",
       "2                          Yes               High       Medium           3   \n",
       "3                          Yes             Medium         High           4   \n",
       "4                          Yes             Medium       Medium           5   \n",
       "\n",
       "   age  gender socioeconomic_status parent_education_level  \\\n",
       "0   17    Male                  Low               Tertiary   \n",
       "1   15    Male                 High                    NaN   \n",
       "2   20  Female                 High               Tertiary   \n",
       "3   22  Female               Medium               Tertiary   \n",
       "4   22  Female               Medium               Tertiary   \n",
       "\n",
       "   assignments_completed  \n",
       "0                      2  \n",
       "1                      1  \n",
       "2                      2  \n",
       "3                      1  \n",
       "4                      1  "
      ]
     },
     "execution_count": 2,
     "metadata": {},
     "output_type": "execute_result"
    }
   ],
   "source": [
    "import pandas as pd\n",
    "from sklearn.model_selection import train_test_split\n",
    "from sklearn.feature_extraction import DictVectorizer\n",
    "\n",
    "# Load the dataset\n",
    "df = pd.read_csv(\"jamb_exam_results.csv\")\n",
    "\n",
    "# Lowercase and replace spaces in column names\n",
    "df.columns = df.columns.str.lower().str.replace(' ', '_')\n",
    "\n",
    "df.head()"
   ]
  },
  {
   "cell_type": "markdown",
   "id": "b9dd9fb8-cfc6-4ed1-88a2-54917a675673",
   "metadata": {},
   "source": [
    "##  Data Cleaning"
   ]
  },
  {
   "cell_type": "code",
   "execution_count": 3,
   "id": "49f2d9c5-709f-4133-96e7-c2544527f561",
   "metadata": {},
   "outputs": [],
   "source": [
    "# Drop the student_id column\n",
    "df = df.drop(columns=['student_id'])\n",
    "\n",
    "# Fill missing values with zero\n",
    "df = df.fillna(0)\n"
   ]
  },
  {
   "cell_type": "markdown",
   "id": "515cd637-94d0-4a90-96dd-82b161aaea16",
   "metadata": {},
   "source": [
    "## Splitting the Dataset"
   ]
  },
  {
   "cell_type": "code",
   "execution_count": 4,
   "id": "d568caa2-64f2-477b-bd9c-db9d33622a84",
   "metadata": {},
   "outputs": [],
   "source": [
    "# Define the target variable and features\n",
    "target = 'jamb_score'\n",
    "y = df[target]\n",
    "X = df.drop(columns=[target])\n",
    "\n",
    "# Perform the split\n",
    "X_train, X_temp, y_train, y_temp = train_test_split(X, y, test_size=0.4, random_state=1)\n",
    "X_val, X_test, y_val, y_test = train_test_split(X_temp, y_temp, test_size=0.5, random_state=1)\n"
   ]
  },
  {
   "cell_type": "markdown",
   "id": "192b79da-0a01-4431-b3f4-28e1484903c3",
   "metadata": {},
   "source": [
    "## Converting to a Dictionary and Vectorizing"
   ]
  },
  {
   "cell_type": "code",
   "execution_count": 5,
   "id": "d25effd5-1a46-4142-bc89-aa7ef11f5bff",
   "metadata": {},
   "outputs": [],
   "source": [
    "# Convert to dictionary format for DictVectorizer\n",
    "train_dict = X_train.to_dict(orient='records')\n",
    "val_dict = X_val.to_dict(orient='records')\n",
    "test_dict = X_test.to_dict(orient='records')\n",
    "\n",
    "# Initialize DictVectorizer\n",
    "dv = DictVectorizer(sparse=True)\n",
    "\n",
    "# Fit and transform the training data\n",
    "X_train_sparse = dv.fit_transform(train_dict)\n",
    "X_val_sparse = dv.transform(val_dict)\n",
    "X_test_sparse = dv.transform(test_dict)\n"
   ]
  },
  {
   "cell_type": "markdown",
   "id": "0d9fc765-29a5-4aba-bb4b-5f73a63e1402",
   "metadata": {},
   "source": [
    "## Question 1\n",
    "\n",
    "Let's train a decision tree regressor to predict the jamb_score variable.\n",
    "\n",
    "Train a model with max_depth=1.\n",
    "\n",
    "Which feature is used for splitting the data?\n",
    "- study_hours_per_week\n",
    "- attendance_rate\n",
    "- teacher_quality\n",
    "- distance_to_school"
   ]
  },
  {
   "cell_type": "code",
   "execution_count": 6,
   "id": "c523e75b-f06c-435b-804d-eb46ec4756ed",
   "metadata": {},
   "outputs": [
    {
     "name": "stdout",
     "output_type": "stream",
     "text": [
      "Feature used for splitting: study_hours_per_week\n"
     ]
    }
   ],
   "source": [
    "from sklearn.tree import DecisionTreeRegressor\n",
    "\n",
    "# Initialize the DecisionTreeRegressor with max_depth=1\n",
    "dt = DecisionTreeRegressor(max_depth=1, random_state=1)\n",
    "\n",
    "# Train the model on the sparse training data\n",
    "dt.fit(X_train_sparse, y_train)\n",
    "\n",
    "# Retrieve the feature that the model uses for the first split\n",
    "split_feature = dv.feature_names_[dt.tree_.feature[0]]\n",
    "print(\"Feature used for splitting:\", split_feature)\n"
   ]
  },
  {
   "cell_type": "markdown",
   "id": "f8193eed-038c-473b-8e7d-8cbec83da747",
   "metadata": {},
   "source": [
    "### Answer 1: study_hours_per_week"
   ]
  },
  {
   "cell_type": "markdown",
   "id": "2fa0fd33-4574-474b-aa4a-f57df6ff111e",
   "metadata": {},
   "source": [
    "## Question 2\n",
    "\n",
    "Train a random forest model with these parameters:\n",
    "- n_estimators=10\n",
    "- random_state=1\n",
    "- n_jobs=-1 (optional - to make training faster)\n",
    "\n",
    "What's the RMSE of this model on validation?\n",
    "- 22.13\n",
    "- 42.13\n",
    "- 62.13\n",
    "- 82.12"
   ]
  },
  {
   "cell_type": "code",
   "execution_count": 7,
   "id": "71390221-a8b5-4b90-ab01-c75b938f5ac1",
   "metadata": {},
   "outputs": [
    {
     "name": "stdout",
     "output_type": "stream",
     "text": [
      "RMSE on validation: 43.157758977963624\n"
     ]
    }
   ],
   "source": [
    "from sklearn.ensemble import RandomForestRegressor\n",
    "from sklearn.metrics import mean_squared_error\n",
    "import numpy as np\n",
    "\n",
    "# Initialize the RandomForestRegressor with specified parameters\n",
    "rf = RandomForestRegressor(n_estimators=10, random_state=1, n_jobs=-1)\n",
    "\n",
    "# Train the model on the sparse training data\n",
    "rf.fit(X_train_sparse, y_train)\n",
    "\n",
    "# Make predictions on the validation set\n",
    "y_pred = rf.predict(X_val_sparse)\n",
    "\n",
    "# Calculate RMSE\n",
    "rmse = np.sqrt(mean_squared_error(y_val, y_pred))\n",
    "print(\"RMSE on validation:\", rmse)\n"
   ]
  },
  {
   "cell_type": "markdown",
   "id": "268cbf9f-efbc-4cee-b892-a54382a17179",
   "metadata": {},
   "source": [
    "### Answer 2: 42.13"
   ]
  },
  {
   "cell_type": "markdown",
   "id": "6e77dc61-c2c0-4aad-ade0-fe01c98967f9",
   "metadata": {},
   "source": [
    "## Question 3\n",
    "\n",
    "Now let's experiment with the n_estimators parameter\n",
    "- Try different values of this parameter from 10 to 200 with step 10.\n",
    "- Set random_state to 1.\n",
    "- Evaluate the model on the validation dataset.\n",
    "\n",
    "After which value of n_estimators does RMSE stop improving? Consider 3 decimal places for calculating the answer.\n",
    "- 10\n",
    "- 25\n",
    "- 80\n",
    "- 200"
   ]
  },
  {
   "cell_type": "code",
   "execution_count": 8,
   "id": "aeacf322-d682-4093-9ea6-8d9cb13deed5",
   "metadata": {
    "scrolled": true
   },
   "outputs": [
    {
     "name": "stdout",
     "output_type": "stream",
     "text": [
      "n_estimators=10, RMSE=43.158\n",
      "n_estimators=20, RMSE=41.790\n",
      "n_estimators=30, RMSE=41.556\n",
      "n_estimators=40, RMSE=41.076\n",
      "n_estimators=50, RMSE=40.957\n",
      "n_estimators=60, RMSE=40.774\n",
      "n_estimators=70, RMSE=40.588\n",
      "n_estimators=80, RMSE=40.503\n",
      "n_estimators=90, RMSE=40.435\n",
      "n_estimators=100, RMSE=40.365\n",
      "n_estimators=110, RMSE=40.348\n",
      "n_estimators=120, RMSE=40.302\n",
      "n_estimators=130, RMSE=40.286\n",
      "n_estimators=140, RMSE=40.263\n",
      "n_estimators=150, RMSE=40.254\n",
      "n_estimators=160, RMSE=40.200\n",
      "n_estimators=170, RMSE=40.187\n",
      "n_estimators=180, RMSE=40.136\n",
      "n_estimators=190, RMSE=40.152\n",
      "n_estimators=200, RMSE=40.138\n"
     ]
    }
   ],
   "source": [
    "rmse_values = []\n",
    "n_estimators_list = range(10, 201, 10)\n",
    "\n",
    "for n in n_estimators_list:\n",
    "    # Initialize the RandomForestRegressor with current n_estimators\n",
    "    rf = RandomForestRegressor(n_estimators=n, random_state=1, n_jobs=-1)\n",
    "    \n",
    "    # Train the model on the training data\n",
    "    rf.fit(X_train_sparse, y_train)\n",
    "    \n",
    "    # Predict on the validation data\n",
    "    y_pred = rf.predict(X_val_sparse)\n",
    "    \n",
    "    # Calculate RMSE\n",
    "    rmse = np.sqrt(mean_squared_error(y_val, y_pred))\n",
    "    rmse_values.append(rmse)\n",
    "    \n",
    "    # Print RMSE for each n_estimators value\n",
    "    print(f\"n_estimators={n}, RMSE={rmse:.3f}\")\n",
    "\n",
    "# Find the point where RMSE stops improving significantly\n",
    "for i in range(1, len(rmse_values)):\n",
    "    if abs(rmse_values[i] - rmse_values[i-1]) < 0.001:\n",
    "        print(f\"RMSE stops improving after n_estimators={n_estimators_list[i]}\")\n",
    "        break\n"
   ]
  },
  {
   "cell_type": "code",
   "execution_count": 9,
   "id": "6f79b63f-c90a-4e4d-9e03-13f023ba5e9f",
   "metadata": {},
   "outputs": [
    {
     "data": {
      "image/png": "[encoded data removed]",
      "text/plain": [
       "<Figure size 1000x600 with 1 Axes>"
      ]
     },
     "metadata": {},
     "output_type": "display_data"
    }
   ],
   "source": [
    "import matplotlib.pyplot as plt\n",
    "import numpy as np\n",
    "\n",
    "# Assuming `rmse_values` from Question 3 and `n_estimators_list` have been calculated\n",
    "# Plot for Question 3: RMSE vs. n_estimators\n",
    "plt.figure(figsize=(10, 6))\n",
    "plt.plot(n_estimators_list, rmse_values, marker='o', linestyle='-', color='b')\n",
    "plt.xlabel('n_estimators')\n",
    "plt.ylabel('RMSE')\n",
    "plt.title('RMSE vs. n_estimators (Question 3)')\n",
    "plt.grid(True)\n",
    "plt.show()\n"
   ]
  },
  {
   "cell_type": "markdown",
   "id": "7f47254e-8e4c-4492-9ab1-29d1ddeac06f",
   "metadata": {},
   "source": [
    "### Answer 3: 200"
   ]
  },
  {
   "cell_type": "markdown",
   "id": "fb007a2f-7ec9-4d53-aece-1410e9b6c4bd",
   "metadata": {},
   "source": [
    "## Question 4\n",
    "\n",
    "Let's select the best max_depth:\n",
    "- Try different values of max_depth: [10, 15, 20, 25]\n",
    "- For each of these values,\n",
    "  - try different values of n_estimators from 10 till 200 (with step 10)\n",
    "  - calculate the mean RMSE\n",
    "- Fix the random seed: random_state=1\n",
    "\n",
    "What's the best max_depth, using the mean RMSE?\n",
    "- 10\n",
    "- 15\n",
    "- 20\n",
    "- 25"
   ]
  },
  {
   "cell_type": "code",
   "execution_count": 10,
   "id": "3edf6413-33d8-4620-831c-0d6f02b9c5f5",
   "metadata": {},
   "outputs": [
    {
     "name": "stdout",
     "output_type": "stream",
     "text": [
      "max_depth=10, mean RMSE=40.138\n",
      "max_depth=15, mean RMSE=40.644\n",
      "max_depth=20, mean RMSE=40.610\n",
      "max_depth=25, mean RMSE=40.688\n",
      "Best max_depth based on mean RMSE: 10\n"
     ]
    }
   ],
   "source": [
    "from sklearn.ensemble import RandomForestRegressor\n",
    "from sklearn.metrics import mean_squared_error\n",
    "import numpy as np\n",
    "\n",
    "# Define the parameters to test\n",
    "max_depth_values = [10, 15, 20, 25]\n",
    "n_estimators_list = range(10, 201, 10)\n",
    "results = {}\n",
    "\n",
    "for max_depth in max_depth_values:\n",
    "    rmse_list = []\n",
    "    \n",
    "    for n in n_estimators_list:\n",
    "        # Initialize the RandomForestRegressor with current max_depth and n_estimators\n",
    "        rf = RandomForestRegressor(n_estimators=n, max_depth=max_depth, random_state=1, n_jobs=-1)\n",
    "        \n",
    "        # Train the model on the training data\n",
    "        rf.fit(X_train_sparse, y_train)\n",
    "        \n",
    "        # Predict on the validation data\n",
    "        y_pred = rf.predict(X_val_sparse)\n",
    "        \n",
    "        # Calculate RMSE and add to list\n",
    "        rmse = np.sqrt(mean_squared_error(y_val, y_pred))\n",
    "        rmse_list.append(rmse)\n",
    "    \n",
    "    # Calculate mean RMSE for the current max_depth\n",
    "    mean_rmse = np.mean(rmse_list)\n",
    "    results[max_depth] = mean_rmse\n",
    "    print(f\"max_depth={max_depth}, mean RMSE={mean_rmse:.3f}\")\n",
    "\n",
    "# Find the best max_depth with the lowest mean RMSE\n",
    "best_max_depth = min(results, key=results.get)\n",
    "print(f\"Best max_depth based on mean RMSE: {best_max_depth}\")\n"
   ]
  },
  {
   "cell_type": "code",
   "execution_count": 11,
   "id": "8566dfe2-a385-4c46-a59a-661e247c2c54",
   "metadata": {},
   "outputs": [
    {
     "data": {
      "image/png": "[encoded data removed]",
      "text/plain": [
       "<Figure size 1000x600 with 1 Axes>"
      ]
     },
     "metadata": {},
     "output_type": "display_data"
    }
   ],
   "source": [
    "# Assuming `results` from Question 4 (Mean RMSE for each max_depth)\n",
    "# Plot for Question 4: Mean RMSE vs. max_depth\n",
    "max_depth_values = list(results.keys())\n",
    "mean_rmse_values = list(results.values())\n",
    "\n",
    "plt.figure(figsize=(10, 6))\n",
    "plt.bar(max_depth_values, mean_rmse_values, color='orange')\n",
    "plt.xlabel('max_depth')\n",
    "plt.ylabel('Mean RMSE')\n",
    "plt.title('Mean RMSE vs. max_depth (Question 4)')\n",
    "plt.grid(True)\n",
    "plt.show()\n"
   ]
  },
  {
   "cell_type": "markdown",
   "id": "29786b18-ff41-4255-b383-86991b247358",
   "metadata": {},
   "source": [
    "### Answer 4: 10"
   ]
  },
  {
   "cell_type": "markdown",
   "id": "afa17c7b-5927-42c7-a864-fafca17eb9b1",
   "metadata": {},
   "source": [
    "## Question 5\n",
    "\n",
    "We can extract feature importance information from tree-based models.\n",
    "\n",
    "At each step of the decision tree learning algorithm, it finds the best split. When doing it, we can calculate \"gain\" - the reduction in impurity before and after the split. This gain is quite useful in understanding what are the important features for tree-based models.\n",
    "\n",
    "In Scikit-Learn, tree-based models contain this information in the feature_importances_ field.\n",
    "\n",
    "For this homework question, we'll find the most important feature:\n",
    "\n",
    "- Train the model with these parameters:\n",
    "    - n_estimators=10,\n",
    "    - max_depth=20,\n",
    "    - random_state=1,\n",
    "    - n_jobs=-1 (optional)\n",
    "- Get the feature importance information from this model\n",
    "  \n",
    "What's the most important feature (among these 4)?\n",
    "- study_hours_per_week\n",
    "- attendance_rate\n",
    "- distance_to_school\n",
    "- teacher_quality\n"
   ]
  },
  {
   "cell_type": "code",
   "execution_count": 12,
   "id": "2a468ccb-6ead-40c3-b143-1dcb8e37c238",
   "metadata": {},
   "outputs": [
    {
     "name": "stdout",
     "output_type": "stream",
     "text": [
      "Most important feature: study_hours_per_week\n"
     ]
    }
   ],
   "source": [
    "from sklearn.ensemble import RandomForestRegressor\n",
    "import pandas as pd\n",
    "\n",
    "# Train the RandomForestRegressor with the given parameters\n",
    "rf = RandomForestRegressor(n_estimators=10, max_depth=20, random_state=1, n_jobs=-1)\n",
    "rf.fit(X_train_sparse, y_train)\n",
    "\n",
    "# Get feature importances\n",
    "importances = rf.feature_importances_\n",
    "features = dv.feature_names_\n",
    "\n",
    "# Create a DataFrame to hold features and their importance scores\n",
    "feature_importance_df = pd.DataFrame({\n",
    "    'feature': features,\n",
    "    'importance': importances\n",
    "})\n",
    "\n",
    "# Sort the features by importance\n",
    "feature_importance_df = feature_importance_df.sort_values(by='importance', ascending=False)\n",
    "\n",
    "# Display the most important feature\n",
    "print(\"Most important feature:\", feature_importance_df.head(1)['feature'].values[0])\n"
   ]
  },
  {
   "cell_type": "markdown",
   "id": "1e8a68fe-f5f5-4fc2-b547-71fba34b8ba6",
   "metadata": {},
   "source": [
    "### Answer 5: study_hours_per_week"
   ]
  },
  {
   "cell_type": "markdown",
   "id": "e3d53f75-84b2-40b3-9ec5-7038f514f34c",
   "metadata": {},
   "source": [
    "## Question 6\n",
    "\n",
    "Now let's train an XGBoost model! For this question, we'll tune the eta parameter:\n",
    "- Install XGBoost\n",
    "- Create DMatrix for train and validation\n",
    "- Create a watchlist\n",
    "- Train a model with these parameters for 100 rounds:\n",
    "  \n",
    "```\n",
    "xgb_params = {\n",
    "    'eta': 0.3, \n",
    "    'max_depth': 6,\n",
    "    'min_child_weight': 1,\n",
    "    \n",
    "    'objective': 'reg:squarederror',\n",
    "    'nthread': 8,\n",
    "    \n",
    "    'seed': 1,\n",
    "    'verbosity': 1,\n",
    "}\n",
    "\n",
    "```\n",
    "Now change eta from 0.3 to 0.1.\n",
    "\n",
    "Which eta leads to the best RMSE score on the validation dataset?\n",
    "- 0.3\n",
    "- 0.1\n",
    "- Both give equal value"
   ]
  },
  {
   "cell_type": "code",
   "execution_count": 13,
   "id": "9d2c95b1-5716-40ec-bee5-4f55d433b9f4",
   "metadata": {},
   "outputs": [
    {
     "name": "stdout",
     "output_type": "stream",
     "text": [
      "RMSE with eta=0.3: 43.343\n",
      "RMSE with eta=0.1: 40.832\n",
      "Best eta is 0.1\n"
     ]
    }
   ],
   "source": [
    "import xgboost as xgb\n",
    "from sklearn.metrics import mean_squared_error\n",
    "import numpy as np\n",
    "\n",
    "# Prepare DMatrix for train and validation\n",
    "dtrain = xgb.DMatrix(X_train_sparse, label=y_train)\n",
    "dval = xgb.DMatrix(X_val_sparse, label=y_val)\n",
    "\n",
    "# Define a watchlist to monitor validation performance during training\n",
    "watchlist = [(dtrain, 'train'), (dval, 'validation')]\n",
    "\n",
    "# Define common XGBoost parameters\n",
    "xgb_params = {\n",
    "    'max_depth': 6,\n",
    "    'min_child_weight': 1,\n",
    "    'objective': 'reg:squarederror',\n",
    "    'nthread': 8,\n",
    "    'seed': 1,\n",
    "    'verbosity': 1\n",
    "}\n",
    "\n",
    "# Function to train the model with a given eta and return RMSE on validation set\n",
    "def train_xgb(eta_value):\n",
    "    xgb_params['eta'] = eta_value\n",
    "    model = xgb.train(params=xgb_params, dtrain=dtrain, num_boost_round=100, evals=watchlist, verbose_eval=False)\n",
    "    \n",
    "    # Predict on validation set\n",
    "    y_pred = model.predict(dval)\n",
    "    \n",
    "    # Calculate RMSE\n",
    "    rmse = np.sqrt(mean_squared_error(y_val, y_pred))\n",
    "    return rmse\n",
    "\n",
    "# Train models with eta=0.3 and eta=0.1\n",
    "rmse_eta_0_3 = train_xgb(0.3)\n",
    "rmse_eta_0_1 = train_xgb(0.1)\n",
    "\n",
    "print(f\"RMSE with eta=0.3: {rmse_eta_0_3:.3f}\")\n",
    "print(f\"RMSE with eta=0.1: {rmse_eta_0_1:.3f}\")\n",
    "\n",
    "# Determine which eta value gives the best RMSE\n",
    "if rmse_eta_0_3 < rmse_eta_0_1:\n",
    "    print(\"Best eta is 0.3\")\n",
    "elif rmse_eta_0_1 < rmse_eta_0_3:\n",
    "    print(\"Best eta is 0.1\")\n",
    "else:\n",
    "    print(\"Both eta values give equal RMSE\")\n"
   ]
  },
  {
   "cell_type": "code",
   "execution_count": 14,
   "id": "3d5e3766-218c-4101-a291-3584d4ca2218",
   "metadata": {},
   "outputs": [
    {
     "data": {
      "image/png": "[encoded data removed]",
      "text/plain": [
       "<Figure size 600x600 with 1 Axes>"
      ]
     },
     "metadata": {},
     "output_type": "display_data"
    }
   ],
   "source": [
    "# Assuming `rmse_eta_0_3` and `rmse_eta_0_1` from Question 6\n",
    "# Plot for Question 6: RMSE comparison for eta=0.3 and eta=0.1\n",
    "eta_values = ['eta=0.3', 'eta=0.1']\n",
    "rmse_values_eta = [rmse_eta_0_3, rmse_eta_0_1]\n",
    "\n",
    "plt.figure(figsize=(6, 6))\n",
    "plt.bar(eta_values, rmse_values_eta, color=['blue', 'green'])\n",
    "plt.ylabel('RMSE')\n",
    "plt.title('RMSE Comparison for Different eta Values (Question 6)')\n",
    "plt.show()\n"
   ]
  },
  {
   "cell_type": "markdown",
   "id": "39ff83b9-ef82-40fa-83d0-e16f71fa37cd",
   "metadata": {},
   "source": [
    "### Answer 6: 0.1"
   ]
  },
  {
   "cell_type": "code",
   "execution_count": null,
   "id": "52a46cf7-3eb2-447f-851a-997f0cf2718e",
   "metadata": {},
   "outputs": [],
   "source": []
  }
 ],
 "metadata": {
  "kernelspec": {
   "display_name": "Python 3 (ipykernel)",
   "language": "python",
   "name": "python3"
  },
  "language_info": {
   "codemirror_mode": {
    "name": "ipython",
    "version": 3
   },
   "file_extension": ".py",
   "mimetype": "text/x-python",
   "name": "python",
   "nbconvert_exporter": "python",
   "pygments_lexer": "ipython3",
   "version": "3.11.9"
  }
 },
 "nbformat": 4,
 "nbformat_minor": 5
}
